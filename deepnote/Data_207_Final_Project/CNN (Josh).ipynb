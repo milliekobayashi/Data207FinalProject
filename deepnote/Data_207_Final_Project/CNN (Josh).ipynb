{
  "cells": [
    {
      "cell_type": "code",
      "source": "import tensorflow as tf\nfrom tensorflow.keras.models import Sequential\nfrom tensorflow.keras.layers import Conv2D, MaxPooling2D, Flatten, Dense, Dropout\nfrom tensorflow.keras.optimizers import Adam\n\nimport pandas as pd\nimport numpy as np\nimport seaborn as sns\nimport matplotlib.pyplot as plt\nfrom sklearn.preprocessing import LabelEncoder, OneHotEncoder\n\nfrom sklearn.model_selection import train_test_split\nfrom sklearn.metrics import accuracy_score, classification_report\n\nfrom sklearn.metrics import confusion_matrix, ConfusionMatrixDisplay\n\nfrom sklearn.preprocessing import StandardScaler\nimport pandas as pd\nfrom sklearn.preprocessing import StandardScaler, LabelEncoder\nfrom tensorflow.keras.layers import Conv1D, MaxPooling1D\nfrom tensorflow.keras.layers import Dropout, BatchNormalization\nfrom tensorflow.keras.callbacks import EarlyStopping",
      "metadata": {
        "source_hash": null,
        "execution_start": 1713217207790,
        "execution_millis": 4608,
        "deepnote_to_be_reexecuted": false,
        "cell_id": "5fcbedd0666c47608de288a13fc0ed84",
        "deepnote_cell_type": "code"
      },
      "outputs": [
        {
          "name": "stderr",
          "text": "2024-04-15 21:40:07.784847: I tensorflow/core/platform/cpu_feature_guard.cc:193] This TensorFlow binary is optimized with oneAPI Deep Neural Network Library (oneDNN) to use the following CPU instructions in performance-critical operations:  AVX2 FMA\nTo enable them in other operations, rebuild TensorFlow with the appropriate compiler flags.\n2024-04-15 21:40:07.994644: W tensorflow/stream_executor/platform/default/dso_loader.cc:64] Could not load dynamic library 'libcudart.so.11.0'; dlerror: libcudart.so.11.0: cannot open shared object file: No such file or directory\n2024-04-15 21:40:07.994670: I tensorflow/stream_executor/cuda/cudart_stub.cc:29] Ignore above cudart dlerror if you do not have a GPU set up on your machine.\n2024-04-15 21:40:08.020332: E tensorflow/stream_executor/cuda/cuda_blas.cc:2981] Unable to register cuBLAS factory: Attempting to register factory for plugin cuBLAS when one has already been registered\n2024-04-15 21:40:09.328635: W tensorflow/stream_executor/platform/default/dso_loader.cc:64] Could not load dynamic library 'libnvinfer.so.7'; dlerror: libnvinfer.so.7: cannot open shared object file: No such file or directory\n2024-04-15 21:40:09.328703: W tensorflow/stream_executor/platform/default/dso_loader.cc:64] Could not load dynamic library 'libnvinfer_plugin.so.7'; dlerror: libnvinfer_plugin.so.7: cannot open shared object file: No such file or directory\n2024-04-15 21:40:09.328711: W tensorflow/compiler/tf2tensorrt/utils/py_utils.cc:38] TF-TRT Warning: Cannot dlopen some TensorRT libraries. If you would like to use Nvidia GPU with TensorRT, please make sure the missing libraries mentioned above are installed properly.\n",
          "output_type": "stream"
        }
      ],
      "outputs_reference": null,
      "execution_count": null,
      "block_group": "5fcbedd0666c47608de288a13fc0ed84",
      "content_dependencies": null
    },
    {
      "cell_type": "code",
      "source": "#data from kaggle dataset: \"Prediction of music genre\"\ndata1 = pd.read_csv(\"music_genre.csv\")\n#data from kaggle data set: \"Spotify Tracks Dataset\"\ndata2 = pd.read_csv(\"dataset.csv\")",
      "metadata": {
        "source_hash": null,
        "execution_start": 1713217212404,
        "execution_millis": 984,
        "deepnote_to_be_reexecuted": false,
        "cell_id": "7cda5dc7c8044fff83ad3221226ba2ae",
        "deepnote_cell_type": "code"
      },
      "outputs": [],
      "outputs_reference": null,
      "execution_count": null,
      "block_group": "e3f3fa2094244cd7810b1f0af7794bf9",
      "content_dependencies": null
    },
    {
      "cell_type": "markdown",
      "source": "# Data 1 Cleaning",
      "metadata": {
        "formattedRanges": [],
        "cell_id": "21c0b07ccdb54086a5a48b5a73b6f938",
        "deepnote_cell_type": "text-cell-h1"
      },
      "block_group": "56429f4ff9c34b2f8d4488a983c73423"
    },
    {
      "cell_type": "code",
      "source": "data1.shape",
      "metadata": {
        "source_hash": null,
        "execution_start": 1713217213402,
        "execution_millis": 79,
        "deepnote_to_be_reexecuted": false,
        "cell_id": "131bf41b76d1410f93124a4a1255c764",
        "deepnote_cell_type": "code"
      },
      "outputs": [
        {
          "output_type": "execute_result",
          "execution_count": 3,
          "data": {
            "text/plain": "(50005, 18)"
          },
          "metadata": {}
        }
      ],
      "outputs_reference": null,
      "execution_count": null,
      "block_group": "684a866d2a4f4cb6878f16ed4eb38ddc",
      "content_dependencies": null
    },
    {
      "cell_type": "code",
      "source": "data1.isnull().sum()",
      "metadata": {
        "source_hash": null,
        "execution_start": 1713217213410,
        "execution_millis": 84,
        "deepnote_to_be_reexecuted": false,
        "cell_id": "67f75db18e3e4d7496a9bb6501a5dc86",
        "deepnote_cell_type": "code"
      },
      "outputs": [
        {
          "output_type": "execute_result",
          "execution_count": 4,
          "data": {
            "text/plain": "instance_id         5\nartist_name         5\ntrack_name          5\npopularity          5\nacousticness        5\ndanceability        5\nduration_ms         5\nenergy              5\ninstrumentalness    5\nkey                 5\nliveness            5\nloudness            5\nmode                5\nspeechiness         5\ntempo               5\nobtained_date       5\nvalence             5\nmusic_genre         5\ndtype: int64"
          },
          "metadata": {}
        }
      ],
      "outputs_reference": null,
      "execution_count": null,
      "block_group": "b71a03c55f844f41b81734c43ac82226",
      "content_dependencies": null
    },
    {
      "cell_type": "code",
      "source": "#all the rows that are null\ndata1[data1['instance_id'].isna()]",
      "metadata": {
        "source_hash": null,
        "execution_start": 1713217213487,
        "execution_millis": 157,
        "deepnote_to_be_reexecuted": false,
        "cell_id": "384c3513d96e4554943e84c92885d62a",
        "deepnote_cell_type": "code"
      },
      "outputs": [
        {
          "output_type": "execute_result",
          "execution_count": 5,
          "data": {
            "application/vnd.deepnote.dataframe.v3+json": {
              "column_count": 18,
              "row_count": 5,
              "columns": [
                {
                  "name": "instance_id",
                  "dtype": "float64",
                  "stats": {
                    "unique_count": 0,
                    "nan_count": 5,
                    "min": null,
                    "max": null,
                    "histogram": [
                      {
                        "bin_start": 0,
                        "bin_end": 0.1,
                        "count": 0
                      },
                      {
                        "bin_start": 0.1,
                        "bin_end": 0.2,
                        "count": 0
                      },
                      {
                        "bin_start": 0.2,
                        "bin_end": 0.30000000000000004,
                        "count": 0
                      },
                      {
                        "bin_start": 0.30000000000000004,
                        "bin_end": 0.4,
                        "count": 0
                      },
                      {
                        "bin_start": 0.4,
                        "bin_end": 0.5,
                        "count": 0
                      },
                      {
                        "bin_start": 0.5,
                        "bin_end": 0.6000000000000001,
                        "count": 0
                      },
                      {
                        "bin_start": 0.6000000000000001,
                        "bin_end": 0.7000000000000001,
                        "count": 0
                      },
                      {
                        "bin_start": 0.7000000000000001,
                        "bin_end": 0.8,
                        "count": 0
                      },
                      {
                        "bin_start": 0.8,
                        "bin_end": 0.9,
                        "count": 0
                      },
                      {
                        "bin_start": 0.9,
                        "bin_end": 1,
                        "count": 0
                      }
                    ]
                  }
                },
                {
                  "name": "artist_name",
                  "dtype": "object",
                  "stats": {
                    "unique_count": 0,
                    "nan_count": 5,
                    "categories": [
                      {
                        "name": "Missing",
                        "count": 5
                      }
                    ]
                  }
                },
                {
                  "name": "track_name",
                  "dtype": "object",
                  "stats": {
                    "unique_count": 0,
                    "nan_count": 5,
                    "categories": [
                      {
                        "name": "Missing",
                        "count": 5
                      }
                    ]
                  }
                },
                {
                  "name": "popularity",
                  "dtype": "float64",
                  "stats": {
                    "unique_count": 0,
                    "nan_count": 5,
                    "min": null,
                    "max": null,
                    "histogram": [
                      {
                        "bin_start": 0,
                        "bin_end": 0.1,
                        "count": 0
                      },
                      {
                        "bin_start": 0.1,
                        "bin_end": 0.2,
                        "count": 0
                      },
                      {
                        "bin_start": 0.2,
                        "bin_end": 0.30000000000000004,
                        "count": 0
                      },
                      {
                        "bin_start": 0.30000000000000004,
                        "bin_end": 0.4,
                        "count": 0
                      },
                      {
                        "bin_start": 0.4,
                        "bin_end": 0.5,
                        "count": 0
                      },
                      {
                        "bin_start": 0.5,
                        "bin_end": 0.6000000000000001,
                        "count": 0
                      },
                      {
                        "bin_start": 0.6000000000000001,
                        "bin_end": 0.7000000000000001,
                        "count": 0
                      },
                      {
                        "bin_start": 0.7000000000000001,
                        "bin_end": 0.8,
                        "count": 0
                      },
                      {
                        "bin_start": 0.8,
                        "bin_end": 0.9,
                        "count": 0
                      },
                      {
                        "bin_start": 0.9,
                        "bin_end": 1,
                        "count": 0
                      }
                    ]
                  }
                },
                {
                  "name": "acousticness",
                  "dtype": "float64",
                  "stats": {
                    "unique_count": 0,
                    "nan_count": 5,
                    "min": null,
                    "max": null,
                    "histogram": [
                      {
                        "bin_start": 0,
                        "bin_end": 0.1,
                        "count": 0
                      },
                      {
                        "bin_start": 0.1,
                        "bin_end": 0.2,
                        "count": 0
                      },
                      {
                        "bin_start": 0.2,
                        "bin_end": 0.30000000000000004,
                        "count": 0
                      },
                      {
                        "bin_start": 0.30000000000000004,
                        "bin_end": 0.4,
                        "count": 0
                      },
                      {
                        "bin_start": 0.4,
                        "bin_end": 0.5,
                        "count": 0
                      },
                      {
                        "bin_start": 0.5,
                        "bin_end": 0.6000000000000001,
                        "count": 0
                      },
                      {
                        "bin_start": 0.6000000000000001,
                        "bin_end": 0.7000000000000001,
                        "count": 0
                      },
                      {
                        "bin_start": 0.7000000000000001,
                        "bin_end": 0.8,
                        "count": 0
                      },
                      {
                        "bin_start": 0.8,
                        "bin_end": 0.9,
                        "count": 0
                      },
                      {
                        "bin_start": 0.9,
                        "bin_end": 1,
                        "count": 0
                      }
                    ]
                  }
                },
                {
                  "name": "danceability",
                  "dtype": "float64",
                  "stats": {
                    "unique_count": 0,
                    "nan_count": 5,
                    "min": null,
                    "max": null,
                    "histogram": [
                      {
                        "bin_start": 0,
                        "bin_end": 0.1,
                        "count": 0
                      },
                      {
                        "bin_start": 0.1,
                        "bin_end": 0.2,
                        "count": 0
                      },
                      {
                        "bin_start": 0.2,
                        "bin_end": 0.30000000000000004,
                        "count": 0
                      },
                      {
                        "bin_start": 0.30000000000000004,
                        "bin_end": 0.4,
                        "count": 0
                      },
                      {
                        "bin_start": 0.4,
                        "bin_end": 0.5,
                        "count": 0
                      },
                      {
                        "bin_start": 0.5,
                        "bin_end": 0.6000000000000001,
                        "count": 0
                      },
                      {
                        "bin_start": 0.6000000000000001,
                        "bin_end": 0.7000000000000001,
                        "count": 0
                      },
                      {
                        "bin_start": 0.7000000000000001,
                        "bin_end": 0.8,
                        "count": 0
                      },
                      {
                        "bin_start": 0.8,
                        "bin_end": 0.9,
                        "count": 0
                      },
                      {
                        "bin_start": 0.9,
                        "bin_end": 1,
                        "count": 0
                      }
                    ]
                  }
                },
                {
                  "name": "duration_ms",
                  "dtype": "float64",
                  "stats": {
                    "unique_count": 0,
                    "nan_count": 5,
                    "min": null,
                    "max": null,
                    "histogram": [
                      {
                        "bin_start": 0,
                        "bin_end": 0.1,
                        "count": 0
                      },
                      {
                        "bin_start": 0.1,
                        "bin_end": 0.2,
                        "count": 0
                      },
                      {
                        "bin_start": 0.2,
                        "bin_end": 0.30000000000000004,
                        "count": 0
                      },
                      {
                        "bin_start": 0.30000000000000004,
                        "bin_end": 0.4,
                        "count": 0
                      },
                      {
                        "bin_start": 0.4,
                        "bin_end": 0.5,
                        "count": 0
                      },
                      {
                        "bin_start": 0.5,
                        "bin_end": 0.6000000000000001,
                        "count": 0
                      },
                      {
                        "bin_start": 0.6000000000000001,
                        "bin_end": 0.7000000000000001,
                        "count": 0
                      },
                      {
                        "bin_start": 0.7000000000000001,
                        "bin_end": 0.8,
                        "count": 0
                      },
                      {
                        "bin_start": 0.8,
                        "bin_end": 0.9,
                        "count": 0
                      },
                      {
                        "bin_start": 0.9,
                        "bin_end": 1,
                        "count": 0
                      }
                    ]
                  }
                },
                {
                  "name": "energy",
                  "dtype": "float64",
                  "stats": {
                    "unique_count": 0,
                    "nan_count": 5,
                    "min": null,
                    "max": null,
                    "histogram": [
                      {
                        "bin_start": 0,
                        "bin_end": 0.1,
                        "count": 0
                      },
                      {
                        "bin_start": 0.1,
                        "bin_end": 0.2,
                        "count": 0
                      },
                      {
                        "bin_start": 0.2,
                        "bin_end": 0.30000000000000004,
                        "count": 0
                      },
                      {
                        "bin_start": 0.30000000000000004,
                        "bin_end": 0.4,
                        "count": 0
                      },
                      {
                        "bin_start": 0.4,
                        "bin_end": 0.5,
                        "count": 0
                      },
                      {
                        "bin_start": 0.5,
                        "bin_end": 0.6000000000000001,
                        "count": 0
                      },
                      {
                        "bin_start": 0.6000000000000001,
                        "bin_end": 0.7000000000000001,
                        "count": 0
                      },
                      {
                        "bin_start": 0.7000000000000001,
                        "bin_end": 0.8,
                        "count": 0
                      },
                      {
                        "bin_start": 0.8,
                        "bin_end": 0.9,
                        "count": 0
                      },
                      {
                        "bin_start": 0.9,
                        "bin_end": 1,
                        "count": 0
                      }
                    ]
                  }
                },
                {
                  "name": "instrumentalness",
                  "dtype": "float64",
                  "stats": {
                    "unique_count": 0,
                    "nan_count": 5,
                    "min": null,
                    "max": null,
                    "histogram": [
                      {
                        "bin_start": 0,
                        "bin_end": 0.1,
                        "count": 0
                      },
                      {
                        "bin_start": 0.1,
                        "bin_end": 0.2,
                        "count": 0
                      },
                      {
                        "bin_start": 0.2,
                        "bin_end": 0.30000000000000004,
                        "count": 0
                      },
                      {
                        "bin_start": 0.30000000000000004,
                        "bin_end": 0.4,
                        "count": 0
                      },
                      {
                        "bin_start": 0.4,
                        "bin_end": 0.5,
                        "count": 0
                      },
                      {
                        "bin_start": 0.5,
                        "bin_end": 0.6000000000000001,
                        "count": 0
                      },
                      {
                        "bin_start": 0.6000000000000001,
                        "bin_end": 0.7000000000000001,
                        "count": 0
                      },
                      {
                        "bin_start": 0.7000000000000001,
                        "bin_end": 0.8,
                        "count": 0
                      },
                      {
                        "bin_start": 0.8,
                        "bin_end": 0.9,
                        "count": 0
                      },
                      {
                        "bin_start": 0.9,
                        "bin_end": 1,
                        "count": 0
                      }
                    ]
                  }
                },
                {
                  "name": "key",
                  "dtype": "object",
                  "stats": {
                    "unique_count": 0,
                    "nan_count": 5,
                    "categories": [
                      {
                        "name": "Missing",
                        "count": 5
                      }
                    ]
                  }
                },
                {
                  "name": "liveness",
                  "dtype": "float64",
                  "stats": {
                    "unique_count": 0,
                    "nan_count": 5,
                    "min": null,
                    "max": null,
                    "histogram": [
                      {
                        "bin_start": 0,
                        "bin_end": 0.1,
                        "count": 0
                      },
                      {
                        "bin_start": 0.1,
                        "bin_end": 0.2,
                        "count": 0
                      },
                      {
                        "bin_start": 0.2,
                        "bin_end": 0.30000000000000004,
                        "count": 0
                      },
                      {
                        "bin_start": 0.30000000000000004,
                        "bin_end": 0.4,
                        "count": 0
                      },
                      {
                        "bin_start": 0.4,
                        "bin_end": 0.5,
                        "count": 0
                      },
                      {
                        "bin_start": 0.5,
                        "bin_end": 0.6000000000000001,
                        "count": 0
                      },
                      {
                        "bin_start": 0.6000000000000001,
                        "bin_end": 0.7000000000000001,
                        "count": 0
                      },
                      {
                        "bin_start": 0.7000000000000001,
                        "bin_end": 0.8,
                        "count": 0
                      },
                      {
                        "bin_start": 0.8,
                        "bin_end": 0.9,
                        "count": 0
                      },
                      {
                        "bin_start": 0.9,
                        "bin_end": 1,
                        "count": 0
                      }
                    ]
                  }
                },
                {
                  "name": "loudness",
                  "dtype": "float64",
                  "stats": {
                    "unique_count": 0,
                    "nan_count": 5,
                    "min": null,
                    "max": null,
                    "histogram": [
                      {
                        "bin_start": 0,
                        "bin_end": 0.1,
                        "count": 0
                      },
                      {
                        "bin_start": 0.1,
                        "bin_end": 0.2,
                        "count": 0
                      },
                      {
                        "bin_start": 0.2,
                        "bin_end": 0.30000000000000004,
                        "count": 0
                      },
                      {
                        "bin_start": 0.30000000000000004,
                        "bin_end": 0.4,
                        "count": 0
                      },
                      {
                        "bin_start": 0.4,
                        "bin_end": 0.5,
                        "count": 0
                      },
                      {
                        "bin_start": 0.5,
                        "bin_end": 0.6000000000000001,
                        "count": 0
                      },
                      {
                        "bin_start": 0.6000000000000001,
                        "bin_end": 0.7000000000000001,
                        "count": 0
                      },
                      {
                        "bin_start": 0.7000000000000001,
                        "bin_end": 0.8,
                        "count": 0
                      },
                      {
                        "bin_start": 0.8,
                        "bin_end": 0.9,
                        "count": 0
                      },
                      {
                        "bin_start": 0.9,
                        "bin_end": 1,
                        "count": 0
                      }
                    ]
                  }
                },
                {
                  "name": "mode",
                  "dtype": "object",
                  "stats": {
                    "unique_count": 0,
                    "nan_count": 5,
                    "categories": [
                      {
                        "name": "Missing",
                        "count": 5
                      }
                    ]
                  }
                },
                {
                  "name": "speechiness",
                  "dtype": "float64",
                  "stats": {
                    "unique_count": 0,
                    "nan_count": 5,
                    "min": null,
                    "max": null,
                    "histogram": [
                      {
                        "bin_start": 0,
                        "bin_end": 0.1,
                        "count": 0
                      },
                      {
                        "bin_start": 0.1,
                        "bin_end": 0.2,
                        "count": 0
                      },
                      {
                        "bin_start": 0.2,
                        "bin_end": 0.30000000000000004,
                        "count": 0
                      },
                      {
                        "bin_start": 0.30000000000000004,
                        "bin_end": 0.4,
                        "count": 0
                      },
                      {
                        "bin_start": 0.4,
                        "bin_end": 0.5,
                        "count": 0
                      },
                      {
                        "bin_start": 0.5,
                        "bin_end": 0.6000000000000001,
                        "count": 0
                      },
                      {
                        "bin_start": 0.6000000000000001,
                        "bin_end": 0.7000000000000001,
                        "count": 0
                      },
                      {
                        "bin_start": 0.7000000000000001,
                        "bin_end": 0.8,
                        "count": 0
                      },
                      {
                        "bin_start": 0.8,
                        "bin_end": 0.9,
                        "count": 0
                      },
                      {
                        "bin_start": 0.9,
                        "bin_end": 1,
                        "count": 0
                      }
                    ]
                  }
                },
                {
                  "name": "tempo",
                  "dtype": "object",
                  "stats": {
                    "unique_count": 0,
                    "nan_count": 5,
                    "categories": [
                      {
                        "name": "Missing",
                        "count": 5
                      }
                    ]
                  }
                },
                {
                  "name": "obtained_date",
                  "dtype": "object",
                  "stats": {
                    "unique_count": 0,
                    "nan_count": 5,
                    "categories": [
                      {
                        "name": "Missing",
                        "count": 5
                      }
                    ]
                  }
                },
                {
                  "name": "valence",
                  "dtype": "float64",
                  "stats": {
                    "unique_count": 0,
                    "nan_count": 5,
                    "min": null,
                    "max": null,
                    "histogram": [
                      {
                        "bin_start": 0,
                        "bin_end": 0.1,
                        "count": 0
                      },
                      {
                        "bin_start": 0.1,
                        "bin_end": 0.2,
                        "count": 0
                      },
                      {
                        "bin_start": 0.2,
                        "bin_end": 0.30000000000000004,
                        "count": 0
                      },
                      {
                        "bin_start": 0.30000000000000004,
                        "bin_end": 0.4,
                        "count": 0
                      },
                      {
                        "bin_start": 0.4,
                        "bin_end": 0.5,
                        "count": 0
                      },
                      {
                        "bin_start": 0.5,
                        "bin_end": 0.6000000000000001,
                        "count": 0
                      },
                      {
                        "bin_start": 0.6000000000000001,
                        "bin_end": 0.7000000000000001,
                        "count": 0
                      },
                      {
                        "bin_start": 0.7000000000000001,
                        "bin_end": 0.8,
                        "count": 0
                      },
                      {
                        "bin_start": 0.8,
                        "bin_end": 0.9,
                        "count": 0
                      },
                      {
                        "bin_start": 0.9,
                        "bin_end": 1,
                        "count": 0
                      }
                    ]
                  }
                },
                {
                  "name": "music_genre",
                  "dtype": "object",
                  "stats": {
                    "unique_count": 0,
                    "nan_count": 5,
                    "categories": [
                      {
                        "name": "Missing",
                        "count": 5
                      }
                    ]
                  }
                },
                {
                  "name": "_deepnote_index_column",
                  "dtype": "int64"
                }
              ],
              "rows": [
                {
                  "instance_id": "nan",
                  "artist_name": "nan",
                  "track_name": "nan",
                  "popularity": "nan",
                  "acousticness": "nan",
                  "danceability": "nan",
                  "duration_ms": "nan",
                  "energy": "nan",
                  "instrumentalness": "nan",
                  "key": "nan",
                  "liveness": "nan",
                  "loudness": "nan",
                  "mode": "nan",
                  "speechiness": "nan",
                  "tempo": "nan",
                  "obtained_date": "nan",
                  "valence": "nan",
                  "music_genre": "nan",
                  "_deepnote_index_column": 10000
                },
                {
                  "instance_id": "nan",
                  "artist_name": "nan",
                  "track_name": "nan",
                  "popularity": "nan",
                  "acousticness": "nan",
                  "danceability": "nan",
                  "duration_ms": "nan",
                  "energy": "nan",
                  "instrumentalness": "nan",
                  "key": "nan",
                  "liveness": "nan",
                  "loudness": "nan",
                  "mode": "nan",
                  "speechiness": "nan",
                  "tempo": "nan",
                  "obtained_date": "nan",
                  "valence": "nan",
                  "music_genre": "nan",
                  "_deepnote_index_column": 10001
                },
                {
                  "instance_id": "nan",
                  "artist_name": "nan",
                  "track_name": "nan",
                  "popularity": "nan",
                  "acousticness": "nan",
                  "danceability": "nan",
                  "duration_ms": "nan",
                  "energy": "nan",
                  "instrumentalness": "nan",
                  "key": "nan",
                  "liveness": "nan",
                  "loudness": "nan",
                  "mode": "nan",
                  "speechiness": "nan",
                  "tempo": "nan",
                  "obtained_date": "nan",
                  "valence": "nan",
                  "music_genre": "nan",
                  "_deepnote_index_column": 10002
                },
                {
                  "instance_id": "nan",
                  "artist_name": "nan",
                  "track_name": "nan",
                  "popularity": "nan",
                  "acousticness": "nan",
                  "danceability": "nan",
                  "duration_ms": "nan",
                  "energy": "nan",
                  "instrumentalness": "nan",
                  "key": "nan",
                  "liveness": "nan",
                  "loudness": "nan",
                  "mode": "nan",
                  "speechiness": "nan",
                  "tempo": "nan",
                  "obtained_date": "nan",
                  "valence": "nan",
                  "music_genre": "nan",
                  "_deepnote_index_column": 10003
                },
                {
                  "instance_id": "nan",
                  "artist_name": "nan",
                  "track_name": "nan",
                  "popularity": "nan",
                  "acousticness": "nan",
                  "danceability": "nan",
                  "duration_ms": "nan",
                  "energy": "nan",
                  "instrumentalness": "nan",
                  "key": "nan",
                  "liveness": "nan",
                  "loudness": "nan",
                  "mode": "nan",
                  "speechiness": "nan",
                  "tempo": "nan",
                  "obtained_date": "nan",
                  "valence": "nan",
                  "music_genre": "nan",
                  "_deepnote_index_column": 10004
                }
              ]
            },
            "text/plain": "       instance_id artist_name track_name  popularity  acousticness  \\\n10000          NaN         NaN        NaN         NaN           NaN   \n10001          NaN         NaN        NaN         NaN           NaN   \n10002          NaN         NaN        NaN         NaN           NaN   \n10003          NaN         NaN        NaN         NaN           NaN   \n10004          NaN         NaN        NaN         NaN           NaN   \n\n       danceability  duration_ms  energy  instrumentalness  key  liveness  \\\n10000           NaN          NaN     NaN               NaN  NaN       NaN   \n10001           NaN          NaN     NaN               NaN  NaN       NaN   \n10002           NaN          NaN     NaN               NaN  NaN       NaN   \n10003           NaN          NaN     NaN               NaN  NaN       NaN   \n10004           NaN          NaN     NaN               NaN  NaN       NaN   \n\n       loudness mode  speechiness tempo obtained_date  valence music_genre  \n10000       NaN  NaN          NaN   NaN           NaN      NaN         NaN  \n10001       NaN  NaN          NaN   NaN           NaN      NaN         NaN  \n10002       NaN  NaN          NaN   NaN           NaN      NaN         NaN  \n10003       NaN  NaN          NaN   NaN           NaN      NaN         NaN  \n10004       NaN  NaN          NaN   NaN           NaN      NaN         NaN  ",
            "text/html": "<div>\n<style scoped>\n    .dataframe tbody tr th:only-of-type {\n        vertical-align: middle;\n    }\n\n    .dataframe tbody tr th {\n        vertical-align: top;\n    }\n\n    .dataframe thead th {\n        text-align: right;\n    }\n</style>\n<table border=\"1\" class=\"dataframe\">\n  <thead>\n    <tr style=\"text-align: right;\">\n      <th></th>\n      <th>instance_id</th>\n      <th>artist_name</th>\n      <th>track_name</th>\n      <th>popularity</th>\n      <th>acousticness</th>\n      <th>danceability</th>\n      <th>duration_ms</th>\n      <th>energy</th>\n      <th>instrumentalness</th>\n      <th>key</th>\n      <th>liveness</th>\n      <th>loudness</th>\n      <th>mode</th>\n      <th>speechiness</th>\n      <th>tempo</th>\n      <th>obtained_date</th>\n      <th>valence</th>\n      <th>music_genre</th>\n    </tr>\n  </thead>\n  <tbody>\n    <tr>\n      <th>10000</th>\n      <td>NaN</td>\n      <td>NaN</td>\n      <td>NaN</td>\n      <td>NaN</td>\n      <td>NaN</td>\n      <td>NaN</td>\n      <td>NaN</td>\n      <td>NaN</td>\n      <td>NaN</td>\n      <td>NaN</td>\n      <td>NaN</td>\n      <td>NaN</td>\n      <td>NaN</td>\n      <td>NaN</td>\n      <td>NaN</td>\n      <td>NaN</td>\n      <td>NaN</td>\n      <td>NaN</td>\n    </tr>\n    <tr>\n      <th>10001</th>\n      <td>NaN</td>\n      <td>NaN</td>\n      <td>NaN</td>\n      <td>NaN</td>\n      <td>NaN</td>\n      <td>NaN</td>\n      <td>NaN</td>\n      <td>NaN</td>\n      <td>NaN</td>\n      <td>NaN</td>\n      <td>NaN</td>\n      <td>NaN</td>\n      <td>NaN</td>\n      <td>NaN</td>\n      <td>NaN</td>\n      <td>NaN</td>\n      <td>NaN</td>\n      <td>NaN</td>\n    </tr>\n    <tr>\n      <th>10002</th>\n      <td>NaN</td>\n      <td>NaN</td>\n      <td>NaN</td>\n      <td>NaN</td>\n      <td>NaN</td>\n      <td>NaN</td>\n      <td>NaN</td>\n      <td>NaN</td>\n      <td>NaN</td>\n      <td>NaN</td>\n      <td>NaN</td>\n      <td>NaN</td>\n      <td>NaN</td>\n      <td>NaN</td>\n      <td>NaN</td>\n      <td>NaN</td>\n      <td>NaN</td>\n      <td>NaN</td>\n    </tr>\n    <tr>\n      <th>10003</th>\n      <td>NaN</td>\n      <td>NaN</td>\n      <td>NaN</td>\n      <td>NaN</td>\n      <td>NaN</td>\n      <td>NaN</td>\n      <td>NaN</td>\n      <td>NaN</td>\n      <td>NaN</td>\n      <td>NaN</td>\n      <td>NaN</td>\n      <td>NaN</td>\n      <td>NaN</td>\n      <td>NaN</td>\n      <td>NaN</td>\n      <td>NaN</td>\n      <td>NaN</td>\n      <td>NaN</td>\n    </tr>\n    <tr>\n      <th>10004</th>\n      <td>NaN</td>\n      <td>NaN</td>\n      <td>NaN</td>\n      <td>NaN</td>\n      <td>NaN</td>\n      <td>NaN</td>\n      <td>NaN</td>\n      <td>NaN</td>\n      <td>NaN</td>\n      <td>NaN</td>\n      <td>NaN</td>\n      <td>NaN</td>\n      <td>NaN</td>\n      <td>NaN</td>\n      <td>NaN</td>\n      <td>NaN</td>\n      <td>NaN</td>\n      <td>NaN</td>\n    </tr>\n  </tbody>\n</table>\n</div>"
          },
          "metadata": {}
        }
      ],
      "outputs_reference": null,
      "execution_count": null,
      "block_group": "1f1bd776930f46208cb3b7bea7f51d69",
      "content_dependencies": null
    },
    {
      "cell_type": "code",
      "source": "#because all the column values are none values, drop those rows\nbefore_drop_na = len(data1)\ndata1 = data1.dropna()\nafter_drop_na = len(data1)\nprint(\"number of data dropped:\", before_drop_na-after_drop_na)",
      "metadata": {
        "source_hash": null,
        "execution_start": 1713217213609,
        "execution_millis": 193,
        "deepnote_to_be_reexecuted": false,
        "cell_id": "910b19bcc20f4e93893284c67d6678f8",
        "deepnote_cell_type": "code"
      },
      "outputs": [
        {
          "name": "stdout",
          "text": "number of data dropped: 5\n",
          "output_type": "stream"
        }
      ],
      "outputs_reference": null,
      "execution_count": null,
      "block_group": "8d618034dc594b70b025811f19a83dd8",
      "content_dependencies": null
    },
    {
      "cell_type": "code",
      "source": "data1.shape",
      "metadata": {
        "source_hash": null,
        "execution_start": 1713217213684,
        "execution_millis": 331,
        "deepnote_to_be_reexecuted": false,
        "cell_id": "71724c208c7c448c86a6cc1ffbf0a1b6",
        "deepnote_cell_type": "code"
      },
      "outputs": [
        {
          "output_type": "execute_result",
          "execution_count": 7,
          "data": {
            "text/plain": "(50000, 18)"
          },
          "metadata": {}
        }
      ],
      "outputs_reference": null,
      "execution_count": null,
      "block_group": "0a8d174640234c93a90586491d52015a",
      "content_dependencies": null
    },
    {
      "cell_type": "markdown",
      "source": "# What to do with Tempo column in Data 1",
      "metadata": {
        "formattedRanges": [],
        "cell_id": "6a1159a7f49745158273551ff80c4720",
        "deepnote_cell_type": "text-cell-h1"
      },
      "block_group": "6ccbfe9d356e41479a267e056c3646c4"
    },
    {
      "cell_type": "code",
      "source": "#the tempo column in data 1 are strings with \"?\", therefore need to convert to integer\nprint(len(data1[data1[\"tempo\"] == \"?\"]))\nprint(len(data1))",
      "metadata": {
        "source_hash": null,
        "execution_start": 1713217213738,
        "execution_millis": 277,
        "deepnote_to_be_reexecuted": false,
        "cell_id": "2ac0d237408748e88d014e3a3f74e71d",
        "deepnote_cell_type": "code"
      },
      "outputs": [
        {
          "name": "stdout",
          "text": "4980\n50000\n",
          "output_type": "stream"
        }
      ],
      "outputs_reference": null,
      "execution_count": null,
      "block_group": "add8f55b7e2947f3a09afc0b3adc7e08",
      "content_dependencies": null
    },
    {
      "cell_type": "markdown",
      "source": "# Label encoding variables in data 1",
      "metadata": {
        "formattedRanges": [],
        "cell_id": "3e01cbe0a0c449a38e0241dc50fe8dcf",
        "deepnote_cell_type": "text-cell-h1"
      },
      "block_group": "7778201d51e6460ea69396d60137f524"
    },
    {
      "cell_type": "code",
      "source": "#make key, mode into One Hot encoding\n#music_genre into label encoding\nonehot = OneHotEncoder(sparse=False)\nonehot.fit(data1[['key', 'mode']])\nonehotencoded = onehot.transform(data1[['key', 'mode']])\ncategorical_columns = [f'{col}_{cat}' for i, col in enumerate(data1[['key', 'mode']].columns) for cat in onehot.categories_[i]]\nonehotdf = pd.DataFrame(onehotencoded, columns=categorical_columns)\ndata1 = pd.concat([data1.reset_index(), onehotdf.reset_index()], axis=1)\n\nlabelencoder = LabelEncoder()\ndata1['key_num'] = labelencoder.fit_transform(data1['key'])\ndata1['mode_num'] = labelencoder.fit_transform(data1['mode'])\ndata1['music_genre_num'] = labelencoder.fit_transform(data1['music_genre'])\ndata1",
      "metadata": {
        "source_hash": null,
        "execution_start": 1713217213739,
        "execution_millis": 288,
        "deepnote_to_be_reexecuted": false,
        "cell_id": "0e6add7bcea54801b543f88b5ab751d5",
        "deepnote_cell_type": "code"
      },
      "outputs": [
        {
          "output_type": "execute_result",
          "execution_count": 9,
          "data": {
            "application/vnd.deepnote.dataframe.v3+json": {
              "column_count": 37,
              "row_count": 50000,
              "columns": [
                {
                  "name": "index",
                  "dtype": "int64",
                  "stats": {
                    "unique_count": 50000,
                    "nan_count": 0,
                    "min": "0",
                    "max": "50004",
                    "histogram": [
                      {
                        "bin_start": 0,
                        "bin_end": 5000.4,
                        "count": 5001
                      },
                      {
                        "bin_start": 5000.4,
                        "bin_end": 10000.8,
                        "count": 4999
                      },
                      {
                        "bin_start": 10000.8,
                        "bin_end": 15001.199999999999,
                        "count": 4997
                      },
                      {
                        "bin_start": 15001.199999999999,
                        "bin_end": 20001.6,
                        "count": 5000
                      },
                      {
                        "bin_start": 20001.6,
                        "bin_end": 25002,
                        "count": 5000
                      },
                      {
                        "bin_start": 25002,
                        "bin_end": 30002.399999999998,
                        "count": 5001
                      },
                      {
                        "bin_start": 30002.399999999998,
                        "bin_end": 35002.799999999996,
                        "count": 5000
                      },
                      {
                        "bin_start": 35002.799999999996,
                        "bin_end": 40003.2,
                        "count": 5001
                      },
                      {
                        "bin_start": 40003.2,
                        "bin_end": 45003.6,
                        "count": 5000
                      },
                      {
                        "bin_start": 45003.6,
                        "bin_end": 50004,
                        "count": 5001
                      }
                    ]
                  }
                },
                {
                  "name": "instance_id",
                  "dtype": "float64",
                  "stats": {
                    "unique_count": 50000,
                    "nan_count": 0,
                    "min": "20002.0",
                    "max": "91759.0",
                    "histogram": [
                      {
                        "bin_start": 20002,
                        "bin_end": 27177.7,
                        "count": 5010
                      },
                      {
                        "bin_start": 27177.7,
                        "bin_end": 34353.4,
                        "count": 5015
                      },
                      {
                        "bin_start": 34353.4,
                        "bin_end": 41529.1,
                        "count": 4975
                      },
                      {
                        "bin_start": 41529.1,
                        "bin_end": 48704.8,
                        "count": 4983
                      },
                      {
                        "bin_start": 48704.8,
                        "bin_end": 55880.5,
                        "count": 4998
                      },
                      {
                        "bin_start": 55880.5,
                        "bin_end": 63056.2,
                        "count": 4994
                      },
                      {
                        "bin_start": 63056.2,
                        "bin_end": 70231.9,
                        "count": 5045
                      },
                      {
                        "bin_start": 70231.9,
                        "bin_end": 77407.6,
                        "count": 4971
                      },
                      {
                        "bin_start": 77407.6,
                        "bin_end": 84583.29999999999,
                        "count": 5022
                      },
                      {
                        "bin_start": 84583.29999999999,
                        "bin_end": 91759,
                        "count": 4987
                      }
                    ]
                  }
                },
                {
                  "name": "artist_name",
                  "dtype": "object"
                },
                {
                  "name": "track_name",
                  "dtype": "object"
                },
                {
                  "name": "popularity",
                  "dtype": "float64"
                },
                {
                  "name": "acousticness",
                  "dtype": "float64"
                },
                {
                  "name": "danceability",
                  "dtype": "float64"
                },
                {
                  "name": "duration_ms",
                  "dtype": "float64"
                },
                {
                  "name": "energy",
                  "dtype": "float64"
                },
                {
                  "name": "instrumentalness",
                  "dtype": "float64"
                },
                {
                  "name": "key",
                  "dtype": "object"
                },
                {
                  "name": "liveness",
                  "dtype": "float64"
                },
                {
                  "name": "loudness",
                  "dtype": "float64"
                },
                {
                  "name": "mode",
                  "dtype": "object"
                },
                {
                  "name": "speechiness",
                  "dtype": "float64"
                },
                {
                  "name": "tempo",
                  "dtype": "object"
                },
                {
                  "name": "obtained_date",
                  "dtype": "object"
                },
                {
                  "name": "valence",
                  "dtype": "float64"
                },
                {
                  "name": "music_genre",
                  "dtype": "object"
                },
                {
                  "name": "index.1",
                  "dtype": "int64"
                },
                {
                  "name": "key_A",
                  "dtype": "float64"
                },
                {
                  "name": "key_A#",
                  "dtype": "float64"
                },
                {
                  "name": "key_B",
                  "dtype": "float64"
                },
                {
                  "name": "key_C",
                  "dtype": "float64"
                },
                {
                  "name": "key_C#",
                  "dtype": "float64"
                },
                {
                  "name": "key_D",
                  "dtype": "float64"
                },
                {
                  "name": "key_D#",
                  "dtype": "float64"
                },
                {
                  "name": "key_E",
                  "dtype": "float64"
                },
                {
                  "name": "key_F",
                  "dtype": "float64"
                },
                {
                  "name": "key_F#",
                  "dtype": "float64"
                },
                {
                  "name": "key_G",
                  "dtype": "float64"
                },
                {
                  "name": "key_G#",
                  "dtype": "float64"
                },
                {
                  "name": "mode_Major",
                  "dtype": "float64"
                },
                {
                  "name": "mode_Minor",
                  "dtype": "float64"
                },
                {
                  "name": "key_num",
                  "dtype": "int64"
                },
                {
                  "name": "mode_num",
                  "dtype": "int64"
                },
                {
                  "name": "music_genre_num",
                  "dtype": "int64"
                },
                {
                  "name": "_deepnote_index_column",
                  "dtype": "int64"
                }
              ],
              "rows": [
                {
                  "index": 0,
                  "instance_id": 32894,
                  "artist_name": "Röyksopp",
                  "track_name": "Röyksopp's Night Out",
                  "popularity": 27,
                  "acousticness": 0.00468,
                  "danceability": 0.652,
                  "duration_ms": -1,
                  "energy": 0.941,
                  "instrumentalness": 0.792,
                  "key": "A#",
                  "liveness": 0.115,
                  "loudness": -5.2010000000000005,
                  "mode": "Minor",
                  "speechiness": 0.0748,
                  "tempo": "100.889",
                  "obtained_date": "4-Apr",
                  "valence": 0.759,
                  "music_genre": "Electronic",
                  "index.1": 0,
                  "key_A": 0,
                  "key_A#": 1,
                  "key_B": 0,
                  "key_C": 0,
                  "key_C#": 0,
                  "key_D": 0,
                  "key_D#": 0,
                  "key_E": 0,
                  "key_F": 0,
                  "key_F#": 0,
                  "key_G": 0,
                  "key_G#": 0,
                  "mode_Major": 0,
                  "mode_Minor": 1,
                  "key_num": 1,
                  "mode_num": 1,
                  "music_genre_num": 5,
                  "_deepnote_index_column": 0
                },
                {
                  "index": 1,
                  "instance_id": 46652,
                  "artist_name": "Thievery Corporation",
                  "track_name": "The Shining Path",
                  "popularity": 31,
                  "acousticness": 0.0127,
                  "danceability": 0.622,
                  "duration_ms": 218293,
                  "energy": 0.89,
                  "instrumentalness": 0.95,
                  "key": "D",
                  "liveness": 0.124,
                  "loudness": -7.042999999999999,
                  "mode": "Minor",
                  "speechiness": 0.03,
                  "tempo": "115.00200000000001",
                  "obtained_date": "4-Apr",
                  "valence": 0.531,
                  "music_genre": "Electronic",
                  "index.1": 1,
                  "key_A": 0,
                  "key_A#": 0,
                  "key_B": 0,
                  "key_C": 0,
                  "key_C#": 0,
                  "key_D": 1,
                  "key_D#": 0,
                  "key_E": 0,
                  "key_F": 0,
                  "key_F#": 0,
                  "key_G": 0,
                  "key_G#": 0,
                  "mode_Major": 0,
                  "mode_Minor": 1,
                  "key_num": 5,
                  "mode_num": 1,
                  "music_genre_num": 5,
                  "_deepnote_index_column": 1
                },
                {
                  "index": 2,
                  "instance_id": 30097,
                  "artist_name": "Dillon Francis",
                  "track_name": "Hurricane",
                  "popularity": 28,
                  "acousticness": 0.00306,
                  "danceability": 0.62,
                  "duration_ms": 215613,
                  "energy": 0.755,
                  "instrumentalness": 0.0118,
                  "key": "G#",
                  "liveness": 0.534,
                  "loudness": -4.617,
                  "mode": "Major",
                  "speechiness": 0.0345,
                  "tempo": "127.994",
                  "obtained_date": "4-Apr",
                  "valence": 0.3329999999999999,
                  "music_genre": "Electronic",
                  "index.1": 2,
                  "key_A": 0,
                  "key_A#": 0,
                  "key_B": 0,
                  "key_C": 0,
                  "key_C#": 0,
                  "key_D": 0,
                  "key_D#": 0,
                  "key_E": 0,
                  "key_F": 0,
                  "key_F#": 0,
                  "key_G": 0,
                  "key_G#": 1,
                  "mode_Major": 1,
                  "mode_Minor": 0,
                  "key_num": 11,
                  "mode_num": 0,
                  "music_genre_num": 5,
                  "_deepnote_index_column": 2
                },
                {
                  "index": 3,
                  "instance_id": 62177,
                  "artist_name": "Dubloadz",
                  "track_name": "Nitro",
                  "popularity": 34,
                  "acousticness": 0.0254,
                  "danceability": 0.774,
                  "duration_ms": 166875,
                  "energy": 0.7,
                  "instrumentalness": 0.00253,
                  "key": "C#",
                  "liveness": 0.157,
                  "loudness": -4.498,
                  "mode": "Major",
                  "speechiness": 0.239,
                  "tempo": "128.014",
                  "obtained_date": "4-Apr",
                  "valence": 0.27,
                  "music_genre": "Electronic",
                  "index.1": 3,
                  "key_A": 0,
                  "key_A#": 0,
                  "key_B": 0,
                  "key_C": 0,
                  "key_C#": 1,
                  "key_D": 0,
                  "key_D#": 0,
                  "key_E": 0,
                  "key_F": 0,
                  "key_F#": 0,
                  "key_G": 0,
                  "key_G#": 0,
                  "mode_Major": 1,
                  "mode_Minor": 0,
                  "key_num": 4,
                  "mode_num": 0,
                  "music_genre_num": 5,
                  "_deepnote_index_column": 3
                },
                {
                  "index": 4,
                  "instance_id": 24907,
                  "artist_name": "What So Not",
                  "track_name": "Divide & Conquer",
                  "popularity": 32,
                  "acousticness": 0.00465,
                  "danceability": 0.638,
                  "duration_ms": 222369,
                  "energy": 0.5870000000000001,
                  "instrumentalness": 0.909,
                  "key": "F#",
                  "liveness": 0.157,
                  "loudness": -6.266,
                  "mode": "Major",
                  "speechiness": 0.0413,
                  "tempo": "145.036",
                  "obtained_date": "4-Apr",
                  "valence": 0.3229999999999999,
                  "music_genre": "Electronic",
                  "index.1": 4,
                  "key_A": 0,
                  "key_A#": 0,
                  "key_B": 0,
                  "key_C": 0,
                  "key_C#": 0,
                  "key_D": 0,
                  "key_D#": 0,
                  "key_E": 0,
                  "key_F": 0,
                  "key_F#": 1,
                  "key_G": 0,
                  "key_G#": 0,
                  "mode_Major": 1,
                  "mode_Minor": 0,
                  "key_num": 9,
                  "mode_num": 0,
                  "music_genre_num": 5,
                  "_deepnote_index_column": 4
                },
                {
                  "index": 5,
                  "instance_id": 89064,
                  "artist_name": "Axel Boman",
                  "track_name": "Hello",
                  "popularity": 47,
                  "acousticness": 0.0052299999999999,
                  "danceability": 0.755,
                  "duration_ms": 519468,
                  "energy": 0.731,
                  "instrumentalness": 0.8540000000000001,
                  "key": "D",
                  "liveness": 0.216,
                  "loudness": -10.517,
                  "mode": "Minor",
                  "speechiness": 0.0412,
                  "tempo": "?",
                  "obtained_date": "4-Apr",
                  "valence": 0.614,
                  "music_genre": "Electronic",
                  "index.1": 5,
                  "key_A": 0,
                  "key_A#": 0,
                  "key_B": 0,
                  "key_C": 0,
                  "key_C#": 0,
                  "key_D": 1,
                  "key_D#": 0,
                  "key_E": 0,
                  "key_F": 0,
                  "key_F#": 0,
                  "key_G": 0,
                  "key_G#": 0,
                  "mode_Major": 0,
                  "mode_Minor": 1,
                  "key_num": 5,
                  "mode_num": 1,
                  "music_genre_num": 5,
                  "_deepnote_index_column": 5
                },
                {
                  "index": 6,
                  "instance_id": 43760,
                  "artist_name": "Jordan Comolli",
                  "track_name": "Clash",
                  "popularity": 46,
                  "acousticness": 0.0289,
                  "danceability": 0.5720000000000001,
                  "duration_ms": 214408,
                  "energy": 0.8029999999999999,
                  "instrumentalness": 0.00000774,
                  "key": "B",
                  "liveness": 0.106,
                  "loudness": -4.294,
                  "mode": "Major",
                  "speechiness": 0.351,
                  "tempo": "149.995",
                  "obtained_date": "4-Apr",
                  "valence": 0.23,
                  "music_genre": "Electronic",
                  "index.1": 6,
                  "key_A": 0,
                  "key_A#": 0,
                  "key_B": 1,
                  "key_C": 0,
                  "key_C#": 0,
                  "key_D": 0,
                  "key_D#": 0,
                  "key_E": 0,
                  "key_F": 0,
                  "key_F#": 0,
                  "key_G": 0,
                  "key_G#": 0,
                  "mode_Major": 1,
                  "mode_Minor": 0,
                  "key_num": 2,
                  "mode_num": 0,
                  "music_genre_num": 5,
                  "_deepnote_index_column": 6
                },
                {
                  "index": 7,
                  "instance_id": 30738,
                  "artist_name": "Hraach",
                  "track_name": "Delirio",
                  "popularity": 43,
                  "acousticness": 0.0297,
                  "danceability": 0.809,
                  "duration_ms": 416132,
                  "energy": 0.706,
                  "instrumentalness": 0.903,
                  "key": "G",
                  "liveness": 0.0635,
                  "loudness": -9.339,
                  "mode": "Minor",
                  "speechiness": 0.0484,
                  "tempo": "120.008",
                  "obtained_date": "4-Apr",
                  "valence": 0.7609999999999999,
                  "music_genre": "Electronic",
                  "index.1": 7,
                  "key_A": 0,
                  "key_A#": 0,
                  "key_B": 0,
                  "key_C": 0,
                  "key_C#": 0,
                  "key_D": 0,
                  "key_D#": 0,
                  "key_E": 0,
                  "key_F": 0,
                  "key_F#": 0,
                  "key_G": 1,
                  "key_G#": 0,
                  "mode_Major": 0,
                  "mode_Minor": 1,
                  "key_num": 10,
                  "mode_num": 1,
                  "music_genre_num": 5,
                  "_deepnote_index_column": 7
                },
                {
                  "index": 8,
                  "instance_id": 84950,
                  "artist_name": "Kayzo",
                  "track_name": "NEVER ALONE",
                  "popularity": 39,
                  "acousticness": 0.00299,
                  "danceability": 0.509,
                  "duration_ms": 292800,
                  "energy": 0.921,
                  "instrumentalness": 0.000276,
                  "key": "F",
                  "liveness": 0.178,
                  "loudness": -3.175,
                  "mode": "Minor",
                  "speechiness": 0.268,
                  "tempo": "149.94799999999998",
                  "obtained_date": "4-Apr",
                  "valence": 0.273,
                  "music_genre": "Electronic",
                  "index.1": 8,
                  "key_A": 0,
                  "key_A#": 0,
                  "key_B": 0,
                  "key_C": 0,
                  "key_C#": 0,
                  "key_D": 0,
                  "key_D#": 0,
                  "key_E": 0,
                  "key_F": 1,
                  "key_F#": 0,
                  "key_G": 0,
                  "key_G#": 0,
                  "mode_Major": 0,
                  "mode_Minor": 1,
                  "key_num": 8,
                  "mode_num": 1,
                  "music_genre_num": 5,
                  "_deepnote_index_column": 8
                },
                {
                  "index": 9,
                  "instance_id": 56950,
                  "artist_name": "Shlump",
                  "track_name": "Lazer Beam",
                  "popularity": 22,
                  "acousticness": 0.00934,
                  "danceability": 0.578,
                  "duration_ms": 204800,
                  "energy": 0.731,
                  "instrumentalness": 0.0112,
                  "key": "A",
                  "liveness": 0.111,
                  "loudness": -7.091,
                  "mode": "Minor",
                  "speechiness": 0.173,
                  "tempo": "139.933",
                  "obtained_date": "4-Apr",
                  "valence": 0.203,
                  "music_genre": "Electronic",
                  "index.1": 9,
                  "key_A": 1,
                  "key_A#": 0,
                  "key_B": 0,
                  "key_C": 0,
                  "key_C#": 0,
                  "key_D": 0,
                  "key_D#": 0,
                  "key_E": 0,
                  "key_F": 0,
                  "key_F#": 0,
                  "key_G": 0,
                  "key_G#": 0,
                  "mode_Major": 0,
                  "mode_Minor": 1,
                  "key_num": 0,
                  "mode_num": 1,
                  "music_genre_num": 5,
                  "_deepnote_index_column": 9
                }
              ]
            },
            "text/plain": "       index  instance_id           artist_name                track_name  \\\n0          0      32894.0              Röyksopp      Röyksopp's Night Out   \n1          1      46652.0  Thievery Corporation          The Shining Path   \n2          2      30097.0        Dillon Francis                 Hurricane   \n3          3      62177.0              Dubloadz                     Nitro   \n4          4      24907.0           What So Not          Divide & Conquer   \n...      ...          ...                   ...                       ...   \n49995  50000      58878.0                 BEXEY                  GO GETTA   \n49996  50001      43557.0             Roy Woods       Drama (feat. Drake)   \n49997  50002      39767.0                Berner  Lovin' Me (feat. Smiggz)   \n49998  50003      57944.0             The-Dream         Shawty Is Da Shit   \n49999  50004      63470.0     Naughty By Nature            Hip Hop Hooray   \n\n       popularity  acousticness  danceability  duration_ms  energy  \\\n0            27.0       0.00468         0.652         -1.0   0.941   \n1            31.0       0.01270         0.622     218293.0   0.890   \n2            28.0       0.00306         0.620     215613.0   0.755   \n3            34.0       0.02540         0.774     166875.0   0.700   \n4            32.0       0.00465         0.638     222369.0   0.587   \n...           ...           ...           ...          ...     ...   \n49995        59.0       0.03340         0.913         -1.0   0.574   \n49996        72.0       0.15700         0.709     251860.0   0.362   \n49997        51.0       0.00597         0.693     189483.0   0.763   \n49998        65.0       0.08310         0.782     262773.0   0.472   \n49999        67.0       0.10200         0.862     267267.0   0.642   \n\n       instrumentalness  ... key_E  key_F  key_F# key_G  key_G# mode_Major  \\\n0               0.79200  ...   0.0    0.0     0.0   0.0     0.0        0.0   \n1               0.95000  ...   0.0    0.0     0.0   0.0     0.0        0.0   \n2               0.01180  ...   0.0    0.0     0.0   0.0     1.0        1.0   \n3               0.00253  ...   0.0    0.0     0.0   0.0     0.0        1.0   \n4               0.90900  ...   0.0    0.0     1.0   0.0     0.0        1.0   \n...                 ...  ...   ...    ...     ...   ...     ...        ...   \n49995           0.00000  ...   0.0    0.0     0.0   0.0     0.0        1.0   \n49996           0.00000  ...   0.0    0.0     0.0   0.0     0.0        1.0   \n49997           0.00000  ...   0.0    0.0     0.0   0.0     0.0        1.0   \n49998           0.00000  ...   0.0    0.0     0.0   1.0     0.0        0.0   \n49999           0.00000  ...   0.0    0.0     1.0   0.0     0.0        0.0   \n\n      mode_Minor  key_num mode_num  music_genre_num  \n0            1.0        1        1                5  \n1            1.0        5        1                5  \n2            0.0       11        0                5  \n3            0.0        4        0                5  \n4            0.0        9        0                5  \n...          ...      ...      ...              ...  \n49995        0.0        4        0                6  \n49996        0.0        2        0                6  \n49997        0.0        5        0                6  \n49998        1.0       10        1                6  \n49999        1.0        9        1                6  \n\n[50000 rows x 37 columns]",
            "text/html": "<div>\n<style scoped>\n    .dataframe tbody tr th:only-of-type {\n        vertical-align: middle;\n    }\n\n    .dataframe tbody tr th {\n        vertical-align: top;\n    }\n\n    .dataframe thead th {\n        text-align: right;\n    }\n</style>\n<table border=\"1\" class=\"dataframe\">\n  <thead>\n    <tr style=\"text-align: right;\">\n      <th></th>\n      <th>index</th>\n      <th>instance_id</th>\n      <th>artist_name</th>\n      <th>track_name</th>\n      <th>popularity</th>\n      <th>acousticness</th>\n      <th>danceability</th>\n      <th>duration_ms</th>\n      <th>energy</th>\n      <th>instrumentalness</th>\n      <th>...</th>\n      <th>key_E</th>\n      <th>key_F</th>\n      <th>key_F#</th>\n      <th>key_G</th>\n      <th>key_G#</th>\n      <th>mode_Major</th>\n      <th>mode_Minor</th>\n      <th>key_num</th>\n      <th>mode_num</th>\n      <th>music_genre_num</th>\n    </tr>\n  </thead>\n  <tbody>\n    <tr>\n      <th>0</th>\n      <td>0</td>\n      <td>32894.0</td>\n      <td>Röyksopp</td>\n      <td>Röyksopp's Night Out</td>\n      <td>27.0</td>\n      <td>0.00468</td>\n      <td>0.652</td>\n      <td>-1.0</td>\n      <td>0.941</td>\n      <td>0.79200</td>\n      <td>...</td>\n      <td>0.0</td>\n      <td>0.0</td>\n      <td>0.0</td>\n      <td>0.0</td>\n      <td>0.0</td>\n      <td>0.0</td>\n      <td>1.0</td>\n      <td>1</td>\n      <td>1</td>\n      <td>5</td>\n    </tr>\n    <tr>\n      <th>1</th>\n      <td>1</td>\n      <td>46652.0</td>\n      <td>Thievery Corporation</td>\n      <td>The Shining Path</td>\n      <td>31.0</td>\n      <td>0.01270</td>\n      <td>0.622</td>\n      <td>218293.0</td>\n      <td>0.890</td>\n      <td>0.95000</td>\n      <td>...</td>\n      <td>0.0</td>\n      <td>0.0</td>\n      <td>0.0</td>\n      <td>0.0</td>\n      <td>0.0</td>\n      <td>0.0</td>\n      <td>1.0</td>\n      <td>5</td>\n      <td>1</td>\n      <td>5</td>\n    </tr>\n    <tr>\n      <th>2</th>\n      <td>2</td>\n      <td>30097.0</td>\n      <td>Dillon Francis</td>\n      <td>Hurricane</td>\n      <td>28.0</td>\n      <td>0.00306</td>\n      <td>0.620</td>\n      <td>215613.0</td>\n      <td>0.755</td>\n      <td>0.01180</td>\n      <td>...</td>\n      <td>0.0</td>\n      <td>0.0</td>\n      <td>0.0</td>\n      <td>0.0</td>\n      <td>1.0</td>\n      <td>1.0</td>\n      <td>0.0</td>\n      <td>11</td>\n      <td>0</td>\n      <td>5</td>\n    </tr>\n    <tr>\n      <th>3</th>\n      <td>3</td>\n      <td>62177.0</td>\n      <td>Dubloadz</td>\n      <td>Nitro</td>\n      <td>34.0</td>\n      <td>0.02540</td>\n      <td>0.774</td>\n      <td>166875.0</td>\n      <td>0.700</td>\n      <td>0.00253</td>\n      <td>...</td>\n      <td>0.0</td>\n      <td>0.0</td>\n      <td>0.0</td>\n      <td>0.0</td>\n      <td>0.0</td>\n      <td>1.0</td>\n      <td>0.0</td>\n      <td>4</td>\n      <td>0</td>\n      <td>5</td>\n    </tr>\n    <tr>\n      <th>4</th>\n      <td>4</td>\n      <td>24907.0</td>\n      <td>What So Not</td>\n      <td>Divide &amp; Conquer</td>\n      <td>32.0</td>\n      <td>0.00465</td>\n      <td>0.638</td>\n      <td>222369.0</td>\n      <td>0.587</td>\n      <td>0.90900</td>\n      <td>...</td>\n      <td>0.0</td>\n      <td>0.0</td>\n      <td>1.0</td>\n      <td>0.0</td>\n      <td>0.0</td>\n      <td>1.0</td>\n      <td>0.0</td>\n      <td>9</td>\n      <td>0</td>\n      <td>5</td>\n    </tr>\n    <tr>\n      <th>...</th>\n      <td>...</td>\n      <td>...</td>\n      <td>...</td>\n      <td>...</td>\n      <td>...</td>\n      <td>...</td>\n      <td>...</td>\n      <td>...</td>\n      <td>...</td>\n      <td>...</td>\n      <td>...</td>\n      <td>...</td>\n      <td>...</td>\n      <td>...</td>\n      <td>...</td>\n      <td>...</td>\n      <td>...</td>\n      <td>...</td>\n      <td>...</td>\n      <td>...</td>\n      <td>...</td>\n    </tr>\n    <tr>\n      <th>49995</th>\n      <td>50000</td>\n      <td>58878.0</td>\n      <td>BEXEY</td>\n      <td>GO GETTA</td>\n      <td>59.0</td>\n      <td>0.03340</td>\n      <td>0.913</td>\n      <td>-1.0</td>\n      <td>0.574</td>\n      <td>0.00000</td>\n      <td>...</td>\n      <td>0.0</td>\n      <td>0.0</td>\n      <td>0.0</td>\n      <td>0.0</td>\n      <td>0.0</td>\n      <td>1.0</td>\n      <td>0.0</td>\n      <td>4</td>\n      <td>0</td>\n      <td>6</td>\n    </tr>\n    <tr>\n      <th>49996</th>\n      <td>50001</td>\n      <td>43557.0</td>\n      <td>Roy Woods</td>\n      <td>Drama (feat. Drake)</td>\n      <td>72.0</td>\n      <td>0.15700</td>\n      <td>0.709</td>\n      <td>251860.0</td>\n      <td>0.362</td>\n      <td>0.00000</td>\n      <td>...</td>\n      <td>0.0</td>\n      <td>0.0</td>\n      <td>0.0</td>\n      <td>0.0</td>\n      <td>0.0</td>\n      <td>1.0</td>\n      <td>0.0</td>\n      <td>2</td>\n      <td>0</td>\n      <td>6</td>\n    </tr>\n    <tr>\n      <th>49997</th>\n      <td>50002</td>\n      <td>39767.0</td>\n      <td>Berner</td>\n      <td>Lovin' Me (feat. Smiggz)</td>\n      <td>51.0</td>\n      <td>0.00597</td>\n      <td>0.693</td>\n      <td>189483.0</td>\n      <td>0.763</td>\n      <td>0.00000</td>\n      <td>...</td>\n      <td>0.0</td>\n      <td>0.0</td>\n      <td>0.0</td>\n      <td>0.0</td>\n      <td>0.0</td>\n      <td>1.0</td>\n      <td>0.0</td>\n      <td>5</td>\n      <td>0</td>\n      <td>6</td>\n    </tr>\n    <tr>\n      <th>49998</th>\n      <td>50003</td>\n      <td>57944.0</td>\n      <td>The-Dream</td>\n      <td>Shawty Is Da Shit</td>\n      <td>65.0</td>\n      <td>0.08310</td>\n      <td>0.782</td>\n      <td>262773.0</td>\n      <td>0.472</td>\n      <td>0.00000</td>\n      <td>...</td>\n      <td>0.0</td>\n      <td>0.0</td>\n      <td>0.0</td>\n      <td>1.0</td>\n      <td>0.0</td>\n      <td>0.0</td>\n      <td>1.0</td>\n      <td>10</td>\n      <td>1</td>\n      <td>6</td>\n    </tr>\n    <tr>\n      <th>49999</th>\n      <td>50004</td>\n      <td>63470.0</td>\n      <td>Naughty By Nature</td>\n      <td>Hip Hop Hooray</td>\n      <td>67.0</td>\n      <td>0.10200</td>\n      <td>0.862</td>\n      <td>267267.0</td>\n      <td>0.642</td>\n      <td>0.00000</td>\n      <td>...</td>\n      <td>0.0</td>\n      <td>0.0</td>\n      <td>1.0</td>\n      <td>0.0</td>\n      <td>0.0</td>\n      <td>0.0</td>\n      <td>1.0</td>\n      <td>9</td>\n      <td>1</td>\n      <td>6</td>\n    </tr>\n  </tbody>\n</table>\n<p>50000 rows × 37 columns</p>\n</div>"
          },
          "metadata": {}
        }
      ],
      "outputs_reference": null,
      "execution_count": null,
      "block_group": "919824eeaa0a42aebc7a444d8aad9b07",
      "content_dependencies": null
    },
    {
      "cell_type": "code",
      "source": "data1_edit = data1.drop(columns = [\"index\", \"instance_id\", \"artist_name\", \"track_name\", \"music_genre\", \"key\", \"mode\", \"tempo\", \"obtained_date\", \"key_num\", \"mode_num\", \"music_genre_num\"])\nfeatures = data1_edit.columns",
      "metadata": {
        "source_hash": null,
        "execution_start": 1713217214089,
        "execution_millis": 323,
        "deepnote_to_be_reexecuted": false,
        "cell_id": "3464b0e2b41440ed941c911dc81f6009",
        "deepnote_cell_type": "code"
      },
      "outputs": [],
      "outputs_reference": null,
      "execution_count": null,
      "block_group": "b4d4f2d85f7748bea699cc4c59676b30",
      "content_dependencies": null
    },
    {
      "cell_type": "code",
      "source": "features",
      "metadata": {
        "source_hash": null,
        "execution_start": 1713217214145,
        "execution_millis": 267,
        "deepnote_to_be_reexecuted": false,
        "cell_id": "91a8359ad33f4760bfa46568e5c30cf9",
        "deepnote_cell_type": "code"
      },
      "outputs": [
        {
          "output_type": "execute_result",
          "execution_count": 11,
          "data": {
            "text/plain": "Index(['popularity', 'acousticness', 'danceability', 'duration_ms', 'energy',\n       'instrumentalness', 'liveness', 'loudness', 'speechiness', 'valence',\n       'key_A', 'key_A#', 'key_B', 'key_C', 'key_C#', 'key_D', 'key_D#',\n       'key_E', 'key_F', 'key_F#', 'key_G', 'key_G#', 'mode_Major',\n       'mode_Minor'],\n      dtype='object')"
          },
          "metadata": {}
        }
      ],
      "outputs_reference": null,
      "execution_count": null,
      "block_group": "8150f2e789dc4cc589928d57222c6d12",
      "content_dependencies": null
    },
    {
      "cell_type": "code",
      "source": "data1_edit",
      "metadata": {
        "source_hash": null,
        "execution_start": 1713217214146,
        "execution_millis": 267,
        "deepnote_to_be_reexecuted": false,
        "cell_id": "3e5b95a317c942fe9ec108462343507a",
        "deepnote_cell_type": "code"
      },
      "outputs": [
        {
          "output_type": "execute_result",
          "execution_count": 12,
          "data": {
            "application/vnd.deepnote.dataframe.v3+json": {
              "column_count": 24,
              "row_count": 50000,
              "columns": [
                {
                  "name": "popularity",
                  "dtype": "float64",
                  "stats": {
                    "unique_count": 99,
                    "nan_count": 0,
                    "min": "0.0",
                    "max": "99.0",
                    "histogram": [
                      {
                        "bin_start": 0,
                        "bin_end": 9.9,
                        "count": 1025
                      },
                      {
                        "bin_start": 9.9,
                        "bin_end": 19.8,
                        "count": 1915
                      },
                      {
                        "bin_start": 19.8,
                        "bin_end": 29.700000000000003,
                        "count": 5488
                      },
                      {
                        "bin_start": 29.700000000000003,
                        "bin_end": 39.6,
                        "count": 10737
                      },
                      {
                        "bin_start": 39.6,
                        "bin_end": 49.5,
                        "count": 10670
                      },
                      {
                        "bin_start": 49.5,
                        "bin_end": 59.400000000000006,
                        "count": 11954
                      },
                      {
                        "bin_start": 59.400000000000006,
                        "bin_end": 69.3,
                        "count": 6311
                      },
                      {
                        "bin_start": 69.3,
                        "bin_end": 79.2,
                        "count": 1665
                      },
                      {
                        "bin_start": 79.2,
                        "bin_end": 89.10000000000001,
                        "count": 216
                      },
                      {
                        "bin_start": 89.10000000000001,
                        "bin_end": 99,
                        "count": 19
                      }
                    ]
                  }
                },
                {
                  "name": "acousticness",
                  "dtype": "float64",
                  "stats": {
                    "unique_count": 4193,
                    "nan_count": 0,
                    "min": "0.0",
                    "max": "0.996",
                    "histogram": [
                      {
                        "bin_start": 0,
                        "bin_end": 0.0996,
                        "count": 22106
                      },
                      {
                        "bin_start": 0.0996,
                        "bin_end": 0.1992,
                        "count": 5662
                      },
                      {
                        "bin_start": 0.1992,
                        "bin_end": 0.29879999999999995,
                        "count": 3598
                      },
                      {
                        "bin_start": 0.29879999999999995,
                        "bin_end": 0.3984,
                        "count": 2803
                      },
                      {
                        "bin_start": 0.3984,
                        "bin_end": 0.498,
                        "count": 2242
                      },
                      {
                        "bin_start": 0.498,
                        "bin_end": 0.5975999999999999,
                        "count": 1936
                      },
                      {
                        "bin_start": 0.5975999999999999,
                        "bin_end": 0.6971999999999999,
                        "count": 1819
                      },
                      {
                        "bin_start": 0.6971999999999999,
                        "bin_end": 0.7968,
                        "count": 1867
                      },
                      {
                        "bin_start": 0.7968,
                        "bin_end": 0.8964,
                        "count": 2114
                      },
                      {
                        "bin_start": 0.8964,
                        "bin_end": 0.996,
                        "count": 5853
                      }
                    ]
                  }
                },
                {
                  "name": "danceability",
                  "dtype": "float64"
                },
                {
                  "name": "duration_ms",
                  "dtype": "float64"
                },
                {
                  "name": "energy",
                  "dtype": "float64"
                },
                {
                  "name": "instrumentalness",
                  "dtype": "float64"
                },
                {
                  "name": "liveness",
                  "dtype": "float64"
                },
                {
                  "name": "loudness",
                  "dtype": "float64"
                },
                {
                  "name": "speechiness",
                  "dtype": "float64"
                },
                {
                  "name": "valence",
                  "dtype": "float64"
                },
                {
                  "name": "key_A",
                  "dtype": "float64"
                },
                {
                  "name": "key_A#",
                  "dtype": "float64"
                },
                {
                  "name": "key_B",
                  "dtype": "float64"
                },
                {
                  "name": "key_C",
                  "dtype": "float64"
                },
                {
                  "name": "key_C#",
                  "dtype": "float64"
                },
                {
                  "name": "key_D",
                  "dtype": "float64"
                },
                {
                  "name": "key_D#",
                  "dtype": "float64"
                },
                {
                  "name": "key_E",
                  "dtype": "float64"
                },
                {
                  "name": "key_F",
                  "dtype": "float64"
                },
                {
                  "name": "key_F#",
                  "dtype": "float64"
                },
                {
                  "name": "key_G",
                  "dtype": "float64"
                },
                {
                  "name": "key_G#",
                  "dtype": "float64"
                },
                {
                  "name": "mode_Major",
                  "dtype": "float64"
                },
                {
                  "name": "mode_Minor",
                  "dtype": "float64"
                },
                {
                  "name": "_deepnote_index_column",
                  "dtype": "int64"
                }
              ],
              "rows": [
                {
                  "popularity": 27,
                  "acousticness": 0.00468,
                  "danceability": 0.652,
                  "duration_ms": -1,
                  "energy": 0.941,
                  "instrumentalness": 0.792,
                  "liveness": 0.115,
                  "loudness": -5.2010000000000005,
                  "speechiness": 0.0748,
                  "valence": 0.759,
                  "key_A": 0,
                  "key_A#": 1,
                  "key_B": 0,
                  "key_C": 0,
                  "key_C#": 0,
                  "key_D": 0,
                  "key_D#": 0,
                  "key_E": 0,
                  "key_F": 0,
                  "key_F#": 0,
                  "key_G": 0,
                  "key_G#": 0,
                  "mode_Major": 0,
                  "mode_Minor": 1,
                  "_deepnote_index_column": 0
                },
                {
                  "popularity": 31,
                  "acousticness": 0.0127,
                  "danceability": 0.622,
                  "duration_ms": 218293,
                  "energy": 0.89,
                  "instrumentalness": 0.95,
                  "liveness": 0.124,
                  "loudness": -7.042999999999999,
                  "speechiness": 0.03,
                  "valence": 0.531,
                  "key_A": 0,
                  "key_A#": 0,
                  "key_B": 0,
                  "key_C": 0,
                  "key_C#": 0,
                  "key_D": 1,
                  "key_D#": 0,
                  "key_E": 0,
                  "key_F": 0,
                  "key_F#": 0,
                  "key_G": 0,
                  "key_G#": 0,
                  "mode_Major": 0,
                  "mode_Minor": 1,
                  "_deepnote_index_column": 1
                },
                {
                  "popularity": 28,
                  "acousticness": 0.00306,
                  "danceability": 0.62,
                  "duration_ms": 215613,
                  "energy": 0.755,
                  "instrumentalness": 0.0118,
                  "liveness": 0.534,
                  "loudness": -4.617,
                  "speechiness": 0.0345,
                  "valence": 0.3329999999999999,
                  "key_A": 0,
                  "key_A#": 0,
                  "key_B": 0,
                  "key_C": 0,
                  "key_C#": 0,
                  "key_D": 0,
                  "key_D#": 0,
                  "key_E": 0,
                  "key_F": 0,
                  "key_F#": 0,
                  "key_G": 0,
                  "key_G#": 1,
                  "mode_Major": 1,
                  "mode_Minor": 0,
                  "_deepnote_index_column": 2
                },
                {
                  "popularity": 34,
                  "acousticness": 0.0254,
                  "danceability": 0.774,
                  "duration_ms": 166875,
                  "energy": 0.7,
                  "instrumentalness": 0.00253,
                  "liveness": 0.157,
                  "loudness": -4.498,
                  "speechiness": 0.239,
                  "valence": 0.27,
                  "key_A": 0,
                  "key_A#": 0,
                  "key_B": 0,
                  "key_C": 0,
                  "key_C#": 1,
                  "key_D": 0,
                  "key_D#": 0,
                  "key_E": 0,
                  "key_F": 0,
                  "key_F#": 0,
                  "key_G": 0,
                  "key_G#": 0,
                  "mode_Major": 1,
                  "mode_Minor": 0,
                  "_deepnote_index_column": 3
                },
                {
                  "popularity": 32,
                  "acousticness": 0.00465,
                  "danceability": 0.638,
                  "duration_ms": 222369,
                  "energy": 0.5870000000000001,
                  "instrumentalness": 0.909,
                  "liveness": 0.157,
                  "loudness": -6.266,
                  "speechiness": 0.0413,
                  "valence": 0.3229999999999999,
                  "key_A": 0,
                  "key_A#": 0,
                  "key_B": 0,
                  "key_C": 0,
                  "key_C#": 0,
                  "key_D": 0,
                  "key_D#": 0,
                  "key_E": 0,
                  "key_F": 0,
                  "key_F#": 1,
                  "key_G": 0,
                  "key_G#": 0,
                  "mode_Major": 1,
                  "mode_Minor": 0,
                  "_deepnote_index_column": 4
                },
                {
                  "popularity": 47,
                  "acousticness": 0.0052299999999999,
                  "danceability": 0.755,
                  "duration_ms": 519468,
                  "energy": 0.731,
                  "instrumentalness": 0.8540000000000001,
                  "liveness": 0.216,
                  "loudness": -10.517,
                  "speechiness": 0.0412,
                  "valence": 0.614,
                  "key_A": 0,
                  "key_A#": 0,
                  "key_B": 0,
                  "key_C": 0,
                  "key_C#": 0,
                  "key_D": 1,
                  "key_D#": 0,
                  "key_E": 0,
                  "key_F": 0,
                  "key_F#": 0,
                  "key_G": 0,
                  "key_G#": 0,
                  "mode_Major": 0,
                  "mode_Minor": 1,
                  "_deepnote_index_column": 5
                },
                {
                  "popularity": 46,
                  "acousticness": 0.0289,
                  "danceability": 0.5720000000000001,
                  "duration_ms": 214408,
                  "energy": 0.8029999999999999,
                  "instrumentalness": 0.00000774,
                  "liveness": 0.106,
                  "loudness": -4.294,
                  "speechiness": 0.351,
                  "valence": 0.23,
                  "key_A": 0,
                  "key_A#": 0,
                  "key_B": 1,
                  "key_C": 0,
                  "key_C#": 0,
                  "key_D": 0,
                  "key_D#": 0,
                  "key_E": 0,
                  "key_F": 0,
                  "key_F#": 0,
                  "key_G": 0,
                  "key_G#": 0,
                  "mode_Major": 1,
                  "mode_Minor": 0,
                  "_deepnote_index_column": 6
                },
                {
                  "popularity": 43,
                  "acousticness": 0.0297,
                  "danceability": 0.809,
                  "duration_ms": 416132,
                  "energy": 0.706,
                  "instrumentalness": 0.903,
                  "liveness": 0.0635,
                  "loudness": -9.339,
                  "speechiness": 0.0484,
                  "valence": 0.7609999999999999,
                  "key_A": 0,
                  "key_A#": 0,
                  "key_B": 0,
                  "key_C": 0,
                  "key_C#": 0,
                  "key_D": 0,
                  "key_D#": 0,
                  "key_E": 0,
                  "key_F": 0,
                  "key_F#": 0,
                  "key_G": 1,
                  "key_G#": 0,
                  "mode_Major": 0,
                  "mode_Minor": 1,
                  "_deepnote_index_column": 7
                },
                {
                  "popularity": 39,
                  "acousticness": 0.00299,
                  "danceability": 0.509,
                  "duration_ms": 292800,
                  "energy": 0.921,
                  "instrumentalness": 0.000276,
                  "liveness": 0.178,
                  "loudness": -3.175,
                  "speechiness": 0.268,
                  "valence": 0.273,
                  "key_A": 0,
                  "key_A#": 0,
                  "key_B": 0,
                  "key_C": 0,
                  "key_C#": 0,
                  "key_D": 0,
                  "key_D#": 0,
                  "key_E": 0,
                  "key_F": 1,
                  "key_F#": 0,
                  "key_G": 0,
                  "key_G#": 0,
                  "mode_Major": 0,
                  "mode_Minor": 1,
                  "_deepnote_index_column": 8
                },
                {
                  "popularity": 22,
                  "acousticness": 0.00934,
                  "danceability": 0.578,
                  "duration_ms": 204800,
                  "energy": 0.731,
                  "instrumentalness": 0.0112,
                  "liveness": 0.111,
                  "loudness": -7.091,
                  "speechiness": 0.173,
                  "valence": 0.203,
                  "key_A": 1,
                  "key_A#": 0,
                  "key_B": 0,
                  "key_C": 0,
                  "key_C#": 0,
                  "key_D": 0,
                  "key_D#": 0,
                  "key_E": 0,
                  "key_F": 0,
                  "key_F#": 0,
                  "key_G": 0,
                  "key_G#": 0,
                  "mode_Major": 0,
                  "mode_Minor": 1,
                  "_deepnote_index_column": 9
                }
              ]
            },
            "text/plain": "       popularity  acousticness  danceability  duration_ms  energy  \\\n0            27.0       0.00468         0.652         -1.0   0.941   \n1            31.0       0.01270         0.622     218293.0   0.890   \n2            28.0       0.00306         0.620     215613.0   0.755   \n3            34.0       0.02540         0.774     166875.0   0.700   \n4            32.0       0.00465         0.638     222369.0   0.587   \n...           ...           ...           ...          ...     ...   \n49995        59.0       0.03340         0.913         -1.0   0.574   \n49996        72.0       0.15700         0.709     251860.0   0.362   \n49997        51.0       0.00597         0.693     189483.0   0.763   \n49998        65.0       0.08310         0.782     262773.0   0.472   \n49999        67.0       0.10200         0.862     267267.0   0.642   \n\n       instrumentalness  liveness  loudness  speechiness  valence  ...  \\\n0               0.79200     0.115    -5.201       0.0748    0.759  ...   \n1               0.95000     0.124    -7.043       0.0300    0.531  ...   \n2               0.01180     0.534    -4.617       0.0345    0.333  ...   \n3               0.00253     0.157    -4.498       0.2390    0.270  ...   \n4               0.90900     0.157    -6.266       0.0413    0.323  ...   \n...                 ...       ...       ...          ...      ...  ...   \n49995           0.00000     0.119    -7.022       0.2980    0.330  ...   \n49996           0.00000     0.109    -9.814       0.0550    0.113  ...   \n49997           0.00000     0.143    -5.443       0.1460    0.395  ...   \n49998           0.00000     0.106    -5.016       0.0441    0.354  ...   \n49999           0.00000     0.272   -13.652       0.1010    0.765  ...   \n\n       key_C#  key_D  key_D#  key_E  key_F  key_F#  key_G  key_G#  mode_Major  \\\n0         0.0    0.0     0.0    0.0    0.0     0.0    0.0     0.0         0.0   \n1         0.0    1.0     0.0    0.0    0.0     0.0    0.0     0.0         0.0   \n2         0.0    0.0     0.0    0.0    0.0     0.0    0.0     1.0         1.0   \n3         1.0    0.0     0.0    0.0    0.0     0.0    0.0     0.0         1.0   \n4         0.0    0.0     0.0    0.0    0.0     1.0    0.0     0.0         1.0   \n...       ...    ...     ...    ...    ...     ...    ...     ...         ...   \n49995     1.0    0.0     0.0    0.0    0.0     0.0    0.0     0.0         1.0   \n49996     0.0    0.0     0.0    0.0    0.0     0.0    0.0     0.0         1.0   \n49997     0.0    1.0     0.0    0.0    0.0     0.0    0.0     0.0         1.0   \n49998     0.0    0.0     0.0    0.0    0.0     0.0    1.0     0.0         0.0   \n49999     0.0    0.0     0.0    0.0    0.0     1.0    0.0     0.0         0.0   \n\n       mode_Minor  \n0             1.0  \n1             1.0  \n2             0.0  \n3             0.0  \n4             0.0  \n...           ...  \n49995         0.0  \n49996         0.0  \n49997         0.0  \n49998         1.0  \n49999         1.0  \n\n[50000 rows x 24 columns]",
            "text/html": "<div>\n<style scoped>\n    .dataframe tbody tr th:only-of-type {\n        vertical-align: middle;\n    }\n\n    .dataframe tbody tr th {\n        vertical-align: top;\n    }\n\n    .dataframe thead th {\n        text-align: right;\n    }\n</style>\n<table border=\"1\" class=\"dataframe\">\n  <thead>\n    <tr style=\"text-align: right;\">\n      <th></th>\n      <th>popularity</th>\n      <th>acousticness</th>\n      <th>danceability</th>\n      <th>duration_ms</th>\n      <th>energy</th>\n      <th>instrumentalness</th>\n      <th>liveness</th>\n      <th>loudness</th>\n      <th>speechiness</th>\n      <th>valence</th>\n      <th>...</th>\n      <th>key_C#</th>\n      <th>key_D</th>\n      <th>key_D#</th>\n      <th>key_E</th>\n      <th>key_F</th>\n      <th>key_F#</th>\n      <th>key_G</th>\n      <th>key_G#</th>\n      <th>mode_Major</th>\n      <th>mode_Minor</th>\n    </tr>\n  </thead>\n  <tbody>\n    <tr>\n      <th>0</th>\n      <td>27.0</td>\n      <td>0.00468</td>\n      <td>0.652</td>\n      <td>-1.0</td>\n      <td>0.941</td>\n      <td>0.79200</td>\n      <td>0.115</td>\n      <td>-5.201</td>\n      <td>0.0748</td>\n      <td>0.759</td>\n      <td>...</td>\n      <td>0.0</td>\n      <td>0.0</td>\n      <td>0.0</td>\n      <td>0.0</td>\n      <td>0.0</td>\n      <td>0.0</td>\n      <td>0.0</td>\n      <td>0.0</td>\n      <td>0.0</td>\n      <td>1.0</td>\n    </tr>\n    <tr>\n      <th>1</th>\n      <td>31.0</td>\n      <td>0.01270</td>\n      <td>0.622</td>\n      <td>218293.0</td>\n      <td>0.890</td>\n      <td>0.95000</td>\n      <td>0.124</td>\n      <td>-7.043</td>\n      <td>0.0300</td>\n      <td>0.531</td>\n      <td>...</td>\n      <td>0.0</td>\n      <td>1.0</td>\n      <td>0.0</td>\n      <td>0.0</td>\n      <td>0.0</td>\n      <td>0.0</td>\n      <td>0.0</td>\n      <td>0.0</td>\n      <td>0.0</td>\n      <td>1.0</td>\n    </tr>\n    <tr>\n      <th>2</th>\n      <td>28.0</td>\n      <td>0.00306</td>\n      <td>0.620</td>\n      <td>215613.0</td>\n      <td>0.755</td>\n      <td>0.01180</td>\n      <td>0.534</td>\n      <td>-4.617</td>\n      <td>0.0345</td>\n      <td>0.333</td>\n      <td>...</td>\n      <td>0.0</td>\n      <td>0.0</td>\n      <td>0.0</td>\n      <td>0.0</td>\n      <td>0.0</td>\n      <td>0.0</td>\n      <td>0.0</td>\n      <td>1.0</td>\n      <td>1.0</td>\n      <td>0.0</td>\n    </tr>\n    <tr>\n      <th>3</th>\n      <td>34.0</td>\n      <td>0.02540</td>\n      <td>0.774</td>\n      <td>166875.0</td>\n      <td>0.700</td>\n      <td>0.00253</td>\n      <td>0.157</td>\n      <td>-4.498</td>\n      <td>0.2390</td>\n      <td>0.270</td>\n      <td>...</td>\n      <td>1.0</td>\n      <td>0.0</td>\n      <td>0.0</td>\n      <td>0.0</td>\n      <td>0.0</td>\n      <td>0.0</td>\n      <td>0.0</td>\n      <td>0.0</td>\n      <td>1.0</td>\n      <td>0.0</td>\n    </tr>\n    <tr>\n      <th>4</th>\n      <td>32.0</td>\n      <td>0.00465</td>\n      <td>0.638</td>\n      <td>222369.0</td>\n      <td>0.587</td>\n      <td>0.90900</td>\n      <td>0.157</td>\n      <td>-6.266</td>\n      <td>0.0413</td>\n      <td>0.323</td>\n      <td>...</td>\n      <td>0.0</td>\n      <td>0.0</td>\n      <td>0.0</td>\n      <td>0.0</td>\n      <td>0.0</td>\n      <td>1.0</td>\n      <td>0.0</td>\n      <td>0.0</td>\n      <td>1.0</td>\n      <td>0.0</td>\n    </tr>\n    <tr>\n      <th>...</th>\n      <td>...</td>\n      <td>...</td>\n      <td>...</td>\n      <td>...</td>\n      <td>...</td>\n      <td>...</td>\n      <td>...</td>\n      <td>...</td>\n      <td>...</td>\n      <td>...</td>\n      <td>...</td>\n      <td>...</td>\n      <td>...</td>\n      <td>...</td>\n      <td>...</td>\n      <td>...</td>\n      <td>...</td>\n      <td>...</td>\n      <td>...</td>\n      <td>...</td>\n      <td>...</td>\n    </tr>\n    <tr>\n      <th>49995</th>\n      <td>59.0</td>\n      <td>0.03340</td>\n      <td>0.913</td>\n      <td>-1.0</td>\n      <td>0.574</td>\n      <td>0.00000</td>\n      <td>0.119</td>\n      <td>-7.022</td>\n      <td>0.2980</td>\n      <td>0.330</td>\n      <td>...</td>\n      <td>1.0</td>\n      <td>0.0</td>\n      <td>0.0</td>\n      <td>0.0</td>\n      <td>0.0</td>\n      <td>0.0</td>\n      <td>0.0</td>\n      <td>0.0</td>\n      <td>1.0</td>\n      <td>0.0</td>\n    </tr>\n    <tr>\n      <th>49996</th>\n      <td>72.0</td>\n      <td>0.15700</td>\n      <td>0.709</td>\n      <td>251860.0</td>\n      <td>0.362</td>\n      <td>0.00000</td>\n      <td>0.109</td>\n      <td>-9.814</td>\n      <td>0.0550</td>\n      <td>0.113</td>\n      <td>...</td>\n      <td>0.0</td>\n      <td>0.0</td>\n      <td>0.0</td>\n      <td>0.0</td>\n      <td>0.0</td>\n      <td>0.0</td>\n      <td>0.0</td>\n      <td>0.0</td>\n      <td>1.0</td>\n      <td>0.0</td>\n    </tr>\n    <tr>\n      <th>49997</th>\n      <td>51.0</td>\n      <td>0.00597</td>\n      <td>0.693</td>\n      <td>189483.0</td>\n      <td>0.763</td>\n      <td>0.00000</td>\n      <td>0.143</td>\n      <td>-5.443</td>\n      <td>0.1460</td>\n      <td>0.395</td>\n      <td>...</td>\n      <td>0.0</td>\n      <td>1.0</td>\n      <td>0.0</td>\n      <td>0.0</td>\n      <td>0.0</td>\n      <td>0.0</td>\n      <td>0.0</td>\n      <td>0.0</td>\n      <td>1.0</td>\n      <td>0.0</td>\n    </tr>\n    <tr>\n      <th>49998</th>\n      <td>65.0</td>\n      <td>0.08310</td>\n      <td>0.782</td>\n      <td>262773.0</td>\n      <td>0.472</td>\n      <td>0.00000</td>\n      <td>0.106</td>\n      <td>-5.016</td>\n      <td>0.0441</td>\n      <td>0.354</td>\n      <td>...</td>\n      <td>0.0</td>\n      <td>0.0</td>\n      <td>0.0</td>\n      <td>0.0</td>\n      <td>0.0</td>\n      <td>0.0</td>\n      <td>1.0</td>\n      <td>0.0</td>\n      <td>0.0</td>\n      <td>1.0</td>\n    </tr>\n    <tr>\n      <th>49999</th>\n      <td>67.0</td>\n      <td>0.10200</td>\n      <td>0.862</td>\n      <td>267267.0</td>\n      <td>0.642</td>\n      <td>0.00000</td>\n      <td>0.272</td>\n      <td>-13.652</td>\n      <td>0.1010</td>\n      <td>0.765</td>\n      <td>...</td>\n      <td>0.0</td>\n      <td>0.0</td>\n      <td>0.0</td>\n      <td>0.0</td>\n      <td>0.0</td>\n      <td>1.0</td>\n      <td>0.0</td>\n      <td>0.0</td>\n      <td>0.0</td>\n      <td>1.0</td>\n    </tr>\n  </tbody>\n</table>\n<p>50000 rows × 24 columns</p>\n</div>"
          },
          "metadata": {}
        }
      ],
      "outputs_reference": null,
      "execution_count": null,
      "block_group": "f476627fc25d465db200ab74fe918bd6",
      "content_dependencies": null
    },
    {
      "cell_type": "markdown",
      "source": "# CNN Baseline (Data 1)",
      "metadata": {
        "formattedRanges": [],
        "cell_id": "aee3672c450846359492b4766f060f50",
        "deepnote_cell_type": "text-cell-h1"
      },
      "block_group": "0b3ecfc782394058b4aad52ed24f1def"
    },
    {
      "cell_type": "code",
      "source": "# Separate features and target variable\nX = data1_edit  \ny = data1['music_genre_num']  \n\n# Split the dataset into training and testing sets\nX_train, X_test, y_train, y_test = train_test_split(X, data1[\"music_genre\"], test_size=0.2, random_state=1)\n\ny_train_encoded = labelencoder.fit_transform(y_train)\ny_test_encoded = labelencoder.transform(y_test)\n\n# Standardize the features \nscaler = StandardScaler()\nX_train = scaler.fit_transform(X_train)\nX_test = scaler.transform(X_test)\n\nX_train = X_train.reshape(X_train.shape[0], X_train.shape[1], 1)\nX_test = X_test.reshape(X_test.shape[0], X_test.shape[1], 1)\n\n# Define the CNN model\nmodel = Sequential([\n    Conv1D(32, 3, activation='relu', input_shape=(X_train.shape[1], 1)),\n    MaxPooling1D(2),\n    Conv1D(64, 3, activation='relu'),\n    MaxPooling1D(2),\n    Conv1D(128, 3, activation='relu'),\n    Flatten(),\n    Dense(128, activation='relu'),\n    Dense(len(np.unique(y)), activation='softmax')\n])\n\n# Compile the model\nmodel.compile(optimizer='adam', loss='sparse_categorical_crossentropy', metrics=['accuracy'])\n\n# Train the model\nmodel.fit(X_train, y_train_encoded, epochs=5, batch_size=32, validation_data=(X_test, y_test_encoded))\n\n# Evaluate the model\ntest_loss, test_acc = model.evaluate(X_test, y_test_encoded)\nprint(\"Test Accuracy:\", test_acc)",
      "metadata": {
        "source_hash": null,
        "execution_start": 1713217214300,
        "execution_millis": 56800,
        "deepnote_to_be_reexecuted": false,
        "cell_id": "c91b9ce8363f4739a0203566764af334",
        "deepnote_cell_type": "code"
      },
      "outputs": [
        {
          "name": "stderr",
          "text": "2024-04-15 21:40:14.397950: W tensorflow/stream_executor/platform/default/dso_loader.cc:64] Could not load dynamic library 'libcuda.so.1'; dlerror: libcuda.so.1: cannot open shared object file: No such file or directory\n2024-04-15 21:40:14.398003: W tensorflow/stream_executor/cuda/cuda_driver.cc:263] failed call to cuInit: UNKNOWN ERROR (303)\n2024-04-15 21:40:14.398031: I tensorflow/stream_executor/cuda/cuda_diagnostics.cc:156] kernel driver does not appear to be running on this host (p-3da032f1-e5ab-4726-ac09-eb3d9c053730): /proc/driver/nvidia/version does not exist\n2024-04-15 21:40:14.398314: I tensorflow/core/platform/cpu_feature_guard.cc:193] This TensorFlow binary is optimized with oneAPI Deep Neural Network Library (oneDNN) to use the following CPU instructions in performance-critical operations:  AVX2 FMA\nTo enable them in other operations, rebuild TensorFlow with the appropriate compiler flags.\nEpoch 1/5\n1250/1250 [==============================] - 13s 10ms/step - loss: 1.4312 - accuracy: 0.4565 - val_loss: 1.2956 - val_accuracy: 0.5067\nEpoch 2/5\n1250/1250 [==============================] - 11s 9ms/step - loss: 1.2397 - accuracy: 0.5214 - val_loss: 1.2004 - val_accuracy: 0.5455\nEpoch 3/5\n1250/1250 [==============================] - 10s 8ms/step - loss: 1.1954 - accuracy: 0.5383 - val_loss: 1.1806 - val_accuracy: 0.5484\nEpoch 4/5\n1250/1250 [==============================] - 10s 8ms/step - loss: 1.1648 - accuracy: 0.5475 - val_loss: 1.1530 - val_accuracy: 0.5538\nEpoch 5/5\n1250/1250 [==============================] - 10s 8ms/step - loss: 1.1339 - accuracy: 0.5580 - val_loss: 1.1560 - val_accuracy: 0.5529\n313/313 [==============================] - 1s 3ms/step - loss: 1.1560 - accuracy: 0.5529\nTest Accuracy: 0.5529000163078308\n",
          "output_type": "stream"
        }
      ],
      "outputs_reference": null,
      "execution_count": null,
      "block_group": "d6ba8e74bc7c440bb87cc8ea04cb9c9a",
      "content_dependencies": null
    },
    {
      "cell_type": "code",
      "source": "print(\"X_train shape:\", X_train.shape)\nprint(\"X_test shape:\", X_test.shape)",
      "metadata": {
        "source_hash": null,
        "execution_start": 1713217271145,
        "execution_millis": 236,
        "deepnote_to_be_reexecuted": false,
        "cell_id": "e02388e6c7674eba8686f3d86a8849b5",
        "deepnote_cell_type": "code"
      },
      "outputs": [
        {
          "name": "stdout",
          "text": "X_train shape: (40000, 24, 1)\nX_test shape: (10000, 24, 1)\n",
          "output_type": "stream"
        }
      ],
      "outputs_reference": null,
      "execution_count": null,
      "block_group": "01f83322c24546fba5fc78522089e67c",
      "content_dependencies": null
    },
    {
      "cell_type": "markdown",
      "source": "## Attempt 1",
      "metadata": {
        "formattedRanges": [],
        "cell_id": "725e4d2939754620a2356f37a799b4e5",
        "deepnote_cell_type": "text-cell-h2"
      },
      "block_group": "003d7fcb9e904c22ad5a6c0eabe2724f"
    },
    {
      "cell_type": "code",
      "source": "# Define the CNN model with additional layers and regularization\nmodel = Sequential([\n    Conv1D(32, 3, activation='relu', input_shape=(X_train.shape[1], 1)),\n    MaxPooling1D(2),\n    Dropout(0.2),  \n    Conv1D(64, 3, activation='relu'),\n    MaxPooling1D(2),\n    Dropout(0.2),  \n    Conv1D(128, 3, activation='relu'),\n    MaxPooling1D(2),\n    Dropout(0.2),  \n    Flatten(),\n    Dense(128, activation='relu'),\n    Dense(len(np.unique(y)), activation='softmax')\n])\n\n# Compile the model with a lower learning rate\nmodel.compile(optimizer='adam', loss='sparse_categorical_crossentropy', metrics=['accuracy'])\n\n# Add early stopping to prevent overfitting\nearly_stopping = EarlyStopping(monitor='val_loss', patience=3, restore_best_weights=True)\n\n# Train the model with the enhanced architecture and regularization\nhistory = model.fit(X_train, y_train_encoded, epochs=5, batch_size=32, validation_data=(X_test, y_test_encoded), callbacks=[early_stopping])\n\n# Evaluate the model\ntest_loss, test_acc = model.evaluate(X_test, y_test_encoded)\nprint(\"Test Accuracy:\", test_acc)\n",
      "metadata": {
        "source_hash": null,
        "execution_start": 1713217271146,
        "execution_millis": 60171,
        "deepnote_to_be_reexecuted": false,
        "cell_id": "639609ccae324f3290462a5930231421",
        "deepnote_cell_type": "code"
      },
      "outputs": [
        {
          "name": "stdout",
          "text": "Epoch 1/5\n1250/1250 [==============================] - 13s 10ms/step - loss: 1.7616 - accuracy: 0.3401 - val_loss: 1.4168 - val_accuracy: 0.4700\nEpoch 2/5\n1250/1250 [==============================] - 11s 9ms/step - loss: 1.4777 - accuracy: 0.4411 - val_loss: 1.3552 - val_accuracy: 0.4880\nEpoch 3/5\n1250/1250 [==============================] - 11s 9ms/step - loss: 1.4134 - accuracy: 0.4666 - val_loss: 1.2933 - val_accuracy: 0.5118\nEpoch 4/5\n1250/1250 [==============================] - 13s 10ms/step - loss: 1.3760 - accuracy: 0.4789 - val_loss: 1.2575 - val_accuracy: 0.5221\nEpoch 5/5\n1250/1250 [==============================] - 11s 8ms/step - loss: 1.3435 - accuracy: 0.4903 - val_loss: 1.2385 - val_accuracy: 0.5266\n313/313 [==============================] - 1s 3ms/step - loss: 1.2385 - accuracy: 0.5266\nTest Accuracy: 0.5266000032424927\n",
          "output_type": "stream"
        }
      ],
      "outputs_reference": null,
      "execution_count": null,
      "block_group": "dcbc749bafd44e31893cb4a69f48e8d2",
      "content_dependencies": null
    },
    {
      "cell_type": "code",
      "source": "history = model.fit(X_train, y_train_encoded, epochs=5, batch_size=32, validation_data=(X_test, y_test_encoded), callbacks=[early_stopping])\ntest_loss, test_acc = model.evaluate(X_test, y_test_encoded)\nprint(\"Test Accuracy:\", test_acc)\ny_pred = np.argmax(model.predict(X_test), axis=-1)",
      "metadata": {
        "source_hash": null,
        "execution_start": 1713217331434,
        "execution_millis": 60415,
        "deepnote_to_be_reexecuted": false,
        "cell_id": "bf300558c4fe41b9ab28234ce74e4240",
        "deepnote_cell_type": "code"
      },
      "outputs": [
        {
          "name": "stdout",
          "text": "Epoch 1/5\n1250/1250 [==============================] - 12s 9ms/step - loss: 1.3335 - accuracy: 0.4884 - val_loss: 1.2175 - val_accuracy: 0.5324\nEpoch 2/5\n1250/1250 [==============================] - 12s 10ms/step - loss: 1.3121 - accuracy: 0.5002 - val_loss: 1.2200 - val_accuracy: 0.5284\nEpoch 3/5\n1250/1250 [==============================] - 11s 9ms/step - loss: 1.3046 - accuracy: 0.5021 - val_loss: 1.1871 - val_accuracy: 0.5403\nEpoch 4/5\n1250/1250 [==============================] - 11s 9ms/step - loss: 1.2939 - accuracy: 0.5082 - val_loss: 1.1916 - val_accuracy: 0.5463\nEpoch 5/5\n1250/1250 [==============================] - 11s 9ms/step - loss: 1.2797 - accuracy: 0.5135 - val_loss: 1.1864 - val_accuracy: 0.5426\n313/313 [==============================] - 1s 3ms/step - loss: 1.1864 - accuracy: 0.5426\nTest Accuracy: 0.5425999760627747\n313/313 [==============================] - 1s 3ms/step\n",
          "output_type": "stream"
        }
      ],
      "outputs_reference": null,
      "execution_count": null,
      "block_group": "31c98379c52d4589945088c0da5d4764",
      "content_dependencies": null
    },
    {
      "cell_type": "code",
      "source": "cm1 = confusion_matrix(y_test_encoded, y_pred)\nplt.figure(figsize=(100, 80))\nConfusionMatrixDisplay(confusion_matrix=cm1, display_labels=np.unique(y_test_encoded)).plot(cmap='Blues', values_format='d')\nplt.title('Confusion Matrix Data 1')\nplt.show()\n#print(\"Confusion Matrix:\")\n#print(conf_matrix)",
      "metadata": {
        "source_hash": null,
        "execution_start": 1713217391852,
        "execution_millis": 939,
        "deepnote_to_be_reexecuted": false,
        "cell_id": "641caa52b11f49f3bd693cc83201ac1e",
        "deepnote_cell_type": "code"
      },
      "outputs": [
        {
          "data": {
            "text/plain": "<Figure size 10000x8000 with 0 Axes>"
          },
          "metadata": {},
          "output_type": "display_data"
        },
        {
          "data": {
            "text/plain": "<Figure size 640x480 with 2 Axes>",
            "image/png": "[encoded data removed]"
          },
          "metadata": {
            "image/png": {
              "width": 507,
              "height": 455
            }
          },
          "output_type": "display_data"
        }
      ],
      "outputs_reference": null,
      "execution_count": null,
      "block_group": "8df37ed541684c20b6423aad5669efc8",
      "content_dependencies": null
    },
    {
      "cell_type": "code",
      "source": "unique_labels = np.unique(y_test)\nclass_names = [str(label) for label in unique_labels]\n\n",
      "metadata": {
        "source_hash": null,
        "execution_start": 1713217392811,
        "execution_millis": 328,
        "deepnote_to_be_reexecuted": false,
        "cell_id": "7bc948222d414551a37b46d95f70272a",
        "deepnote_cell_type": "code"
      },
      "outputs": [],
      "outputs_reference": null,
      "execution_count": null,
      "block_group": "31a2a6a8a817479d87b8bf85faa91d6c",
      "content_dependencies": null
    },
    {
      "cell_type": "code",
      "source": "print(\"Classification Report for Data 1:\")\nprint(classification_report(y_test_encoded, y_pred, target_names = class_names))",
      "metadata": {
        "source_hash": null,
        "execution_start": 1713217392812,
        "execution_millis": 328,
        "deepnote_to_be_reexecuted": false,
        "cell_id": "e67e6c93c3494405be41ff5f5ce2fff4",
        "deepnote_cell_type": "code"
      },
      "outputs": [
        {
          "name": "stdout",
          "text": "Classification Report for Data 1:\n              precision    recall  f1-score   support\n\n Alternative       0.46      0.27      0.34      1005\n       Anime       0.74      0.66      0.70      1057\n       Blues       0.58      0.44      0.50       985\n   Classical       0.79      0.85      0.82       967\n     Country       0.53      0.47      0.50       969\n  Electronic       0.68      0.57      0.62      1029\n     Hip-Hop       0.39      0.30      0.34      1012\n        Jazz       0.46      0.52      0.48       996\n         Rap       0.42      0.63      0.51       982\n        Rock       0.46      0.73      0.56       998\n\n    accuracy                           0.54     10000\n   macro avg       0.55      0.54      0.54     10000\nweighted avg       0.55      0.54      0.54     10000\n\n",
          "output_type": "stream"
        }
      ],
      "outputs_reference": null,
      "execution_count": null,
      "block_group": "02cc702c4c3f406c9f5c97420e0e24b2",
      "content_dependencies": null
    },
    {
      "cell_type": "markdown",
      "source": "## Data 2 Cleaning",
      "metadata": {
        "formattedRanges": [],
        "cell_id": "4812457270234bab990af1fd0711199e",
        "deepnote_cell_type": "text-cell-h2"
      },
      "block_group": "924ed3ebcc71454c89eac7b3e1c274fa"
    },
    {
      "cell_type": "code",
      "source": "data2.shape",
      "metadata": {
        "source_hash": null,
        "execution_start": 1713217392825,
        "execution_millis": 315,
        "deepnote_to_be_reexecuted": false,
        "cell_id": "8dba44e03d9c4b7aa8bbbf824535c423",
        "deepnote_cell_type": "code"
      },
      "outputs": [
        {
          "output_type": "execute_result",
          "execution_count": 20,
          "data": {
            "text/plain": "(114000, 21)"
          },
          "metadata": {}
        }
      ],
      "outputs_reference": null,
      "execution_count": null,
      "block_group": "639265f29ada4f50bad5164e53536ed9",
      "content_dependencies": null
    },
    {
      "cell_type": "code",
      "source": "data2.head()",
      "metadata": {
        "source_hash": null,
        "execution_start": 1713217392904,
        "execution_millis": 236,
        "deepnote_to_be_reexecuted": false,
        "cell_id": "693faf6afe40442ab14ba63195beb283",
        "deepnote_cell_type": "code"
      },
      "outputs": [
        {
          "output_type": "execute_result",
          "execution_count": 21,
          "data": {
            "application/vnd.deepnote.dataframe.v3+json": {
              "column_count": 21,
              "row_count": 5,
              "columns": [
                {
                  "name": "Unnamed: 0",
                  "dtype": "int64",
                  "stats": {
                    "unique_count": 5,
                    "nan_count": 0,
                    "min": "0",
                    "max": "4",
                    "histogram": [
                      {
                        "bin_start": 0,
                        "bin_end": 0.4,
                        "count": 1
                      },
                      {
                        "bin_start": 0.4,
                        "bin_end": 0.8,
                        "count": 0
                      },
                      {
                        "bin_start": 0.8,
                        "bin_end": 1.2000000000000002,
                        "count": 1
                      },
                      {
                        "bin_start": 1.2000000000000002,
                        "bin_end": 1.6,
                        "count": 0
                      },
                      {
                        "bin_start": 1.6,
                        "bin_end": 2,
                        "count": 0
                      },
                      {
                        "bin_start": 2,
                        "bin_end": 2.4000000000000004,
                        "count": 1
                      },
                      {
                        "bin_start": 2.4000000000000004,
                        "bin_end": 2.8000000000000003,
                        "count": 0
                      },
                      {
                        "bin_start": 2.8000000000000003,
                        "bin_end": 3.2,
                        "count": 1
                      },
                      {
                        "bin_start": 3.2,
                        "bin_end": 3.6,
                        "count": 0
                      },
                      {
                        "bin_start": 3.6,
                        "bin_end": 4,
                        "count": 1
                      }
                    ]
                  }
                },
                {
                  "name": "track_id",
                  "dtype": "object",
                  "stats": {
                    "unique_count": 5,
                    "nan_count": 0,
                    "categories": [
                      {
                        "name": "5SuOikwiRyPMVoIQDJUgSV",
                        "count": 1
                      },
                      {
                        "name": "4qPNDBW1i3p13qLCt0Ki3A",
                        "count": 1
                      },
                      {
                        "name": "3 others",
                        "count": 3
                      }
                    ]
                  }
                },
                {
                  "name": "artists",
                  "dtype": "object",
                  "stats": {
                    "unique_count": 5,
                    "nan_count": 0,
                    "categories": [
                      {
                        "name": "Gen Hoshino",
                        "count": 1
                      },
                      {
                        "name": "Ben Woodward",
                        "count": 1
                      },
                      {
                        "name": "3 others",
                        "count": 3
                      }
                    ]
                  }
                },
                {
                  "name": "album_name",
                  "dtype": "object",
                  "stats": {
                    "unique_count": 5,
                    "nan_count": 0,
                    "categories": [
                      {
                        "name": "Comedy",
                        "count": 1
                      },
                      {
                        "name": "Ghost (Acoustic)",
                        "count": 1
                      },
                      {
                        "name": "3 others",
                        "count": 3
                      }
                    ]
                  }
                },
                {
                  "name": "track_name",
                  "dtype": "object",
                  "stats": {
                    "unique_count": 5,
                    "nan_count": 0,
                    "categories": [
                      {
                        "name": "Comedy",
                        "count": 1
                      },
                      {
                        "name": "Ghost - Acoustic",
                        "count": 1
                      },
                      {
                        "name": "3 others",
                        "count": 3
                      }
                    ]
                  }
                },
                {
                  "name": "popularity",
                  "dtype": "int64",
                  "stats": {
                    "unique_count": 5,
                    "nan_count": 0,
                    "min": "55",
                    "max": "82",
                    "histogram": [
                      {
                        "bin_start": 55,
                        "bin_end": 57.7,
                        "count": 2
                      },
                      {
                        "bin_start": 57.7,
                        "bin_end": 60.4,
                        "count": 0
                      },
                      {
                        "bin_start": 60.4,
                        "bin_end": 63.1,
                        "count": 0
                      },
                      {
                        "bin_start": 63.1,
                        "bin_end": 65.8,
                        "count": 0
                      },
                      {
                        "bin_start": 65.8,
                        "bin_end": 68.5,
                        "count": 0
                      },
                      {
                        "bin_start": 68.5,
                        "bin_end": 71.2,
                        "count": 1
                      },
                      {
                        "bin_start": 71.2,
                        "bin_end": 73.9,
                        "count": 1
                      },
                      {
                        "bin_start": 73.9,
                        "bin_end": 76.6,
                        "count": 0
                      },
                      {
                        "bin_start": 76.6,
                        "bin_end": 79.3,
                        "count": 0
                      },
                      {
                        "bin_start": 79.3,
                        "bin_end": 82,
                        "count": 1
                      }
                    ]
                  }
                },
                {
                  "name": "duration_ms",
                  "dtype": "int64",
                  "stats": {
                    "unique_count": 5,
                    "nan_count": 0,
                    "min": "149610",
                    "max": "230666",
                    "histogram": [
                      {
                        "bin_start": 149610,
                        "bin_end": 157715.6,
                        "count": 1
                      },
                      {
                        "bin_start": 157715.6,
                        "bin_end": 165821.2,
                        "count": 0
                      },
                      {
                        "bin_start": 165821.2,
                        "bin_end": 173926.8,
                        "count": 0
                      },
                      {
                        "bin_start": 173926.8,
                        "bin_end": 182032.4,
                        "count": 0
                      },
                      {
                        "bin_start": 182032.4,
                        "bin_end": 190138,
                        "count": 0
                      },
                      {
                        "bin_start": 190138,
                        "bin_end": 198243.6,
                        "count": 0
                      },
                      {
                        "bin_start": 198243.6,
                        "bin_end": 206349.2,
                        "count": 2
                      },
                      {
                        "bin_start": 206349.2,
                        "bin_end": 214454.8,
                        "count": 1
                      },
                      {
                        "bin_start": 214454.8,
                        "bin_end": 222560.40000000002,
                        "count": 0
                      },
                      {
                        "bin_start": 222560.40000000002,
                        "bin_end": 230666,
                        "count": 1
                      }
                    ]
                  }
                },
                {
                  "name": "explicit",
                  "dtype": "bool",
                  "stats": {
                    "unique_count": 1,
                    "nan_count": 0,
                    "categories": [
                      {
                        "name": "False",
                        "count": 5
                      }
                    ]
                  }
                },
                {
                  "name": "danceability",
                  "dtype": "float64",
                  "stats": {
                    "unique_count": 5,
                    "nan_count": 0,
                    "min": "0.266",
                    "max": "0.676",
                    "histogram": [
                      {
                        "bin_start": 0.266,
                        "bin_end": 0.307,
                        "count": 1
                      },
                      {
                        "bin_start": 0.307,
                        "bin_end": 0.34800000000000003,
                        "count": 0
                      },
                      {
                        "bin_start": 0.34800000000000003,
                        "bin_end": 0.389,
                        "count": 0
                      },
                      {
                        "bin_start": 0.389,
                        "bin_end": 0.43000000000000005,
                        "count": 1
                      },
                      {
                        "bin_start": 0.43000000000000005,
                        "bin_end": 0.47100000000000003,
                        "count": 1
                      },
                      {
                        "bin_start": 0.47100000000000003,
                        "bin_end": 0.512,
                        "count": 0
                      },
                      {
                        "bin_start": 0.512,
                        "bin_end": 0.553,
                        "count": 0
                      },
                      {
                        "bin_start": 0.553,
                        "bin_end": 0.5940000000000001,
                        "count": 0
                      },
                      {
                        "bin_start": 0.5940000000000001,
                        "bin_end": 0.635,
                        "count": 1
                      },
                      {
                        "bin_start": 0.635,
                        "bin_end": 0.676,
                        "count": 1
                      }
                    ]
                  }
                },
                {
                  "name": "energy",
                  "dtype": "float64",
                  "stats": {
                    "unique_count": 5,
                    "nan_count": 0,
                    "min": "0.0596",
                    "max": "0.461",
                    "histogram": [
                      {
                        "bin_start": 0.0596,
                        "bin_end": 0.09974,
                        "count": 1
                      },
                      {
                        "bin_start": 0.09974,
                        "bin_end": 0.13988,
                        "count": 0
                      },
                      {
                        "bin_start": 0.13988,
                        "bin_end": 0.18002,
                        "count": 1
                      },
                      {
                        "bin_start": 0.18002,
                        "bin_end": 0.22016000000000002,
                        "count": 0
                      },
                      {
                        "bin_start": 0.22016000000000002,
                        "bin_end": 0.26030000000000003,
                        "count": 0
                      },
                      {
                        "bin_start": 0.26030000000000003,
                        "bin_end": 0.30044,
                        "count": 0
                      },
                      {
                        "bin_start": 0.30044,
                        "bin_end": 0.34058,
                        "count": 0
                      },
                      {
                        "bin_start": 0.34058,
                        "bin_end": 0.38072,
                        "count": 1
                      },
                      {
                        "bin_start": 0.38072,
                        "bin_end": 0.42086,
                        "count": 0
                      },
                      {
                        "bin_start": 0.42086,
                        "bin_end": 0.461,
                        "count": 2
                      }
                    ]
                  }
                },
                {
                  "name": "key",
                  "dtype": "int64",
                  "stats": {
                    "unique_count": 3,
                    "nan_count": 0,
                    "min": "0",
                    "max": "2",
                    "histogram": [
                      {
                        "bin_start": 0,
                        "bin_end": 0.2,
                        "count": 2
                      },
                      {
                        "bin_start": 0.2,
                        "bin_end": 0.4,
                        "count": 0
                      },
                      {
                        "bin_start": 0.4,
                        "bin_end": 0.6000000000000001,
                        "count": 0
                      },
                      {
                        "bin_start": 0.6000000000000001,
                        "bin_end": 0.8,
                        "count": 0
                      },
                      {
                        "bin_start": 0.8,
                        "bin_end": 1,
                        "count": 0
                      },
                      {
                        "bin_start": 1,
                        "bin_end": 1.2000000000000002,
                        "count": 2
                      },
                      {
                        "bin_start": 1.2000000000000002,
                        "bin_end": 1.4000000000000001,
                        "count": 0
                      },
                      {
                        "bin_start": 1.4000000000000001,
                        "bin_end": 1.6,
                        "count": 0
                      },
                      {
                        "bin_start": 1.6,
                        "bin_end": 1.8,
                        "count": 0
                      },
                      {
                        "bin_start": 1.8,
                        "bin_end": 2,
                        "count": 1
                      }
                    ]
                  }
                },
                {
                  "name": "loudness",
                  "dtype": "float64",
                  "stats": {
                    "unique_count": 5,
                    "nan_count": 0,
                    "min": "-18.515",
                    "max": "-6.746",
                    "histogram": [
                      {
                        "bin_start": -18.515,
                        "bin_end": -17.3381,
                        "count": 1
                      },
                      {
                        "bin_start": -17.3381,
                        "bin_end": -16.1612,
                        "count": 1
                      },
                      {
                        "bin_start": -16.1612,
                        "bin_end": -14.984300000000001,
                        "count": 0
                      },
                      {
                        "bin_start": -14.984300000000001,
                        "bin_end": -13.807400000000001,
                        "count": 0
                      },
                      {
                        "bin_start": -13.807400000000001,
                        "bin_end": -12.630500000000001,
                        "count": 0
                      },
                      {
                        "bin_start": -12.630500000000001,
                        "bin_end": -11.4536,
                        "count": 0
                      },
                      {
                        "bin_start": -11.4536,
                        "bin_end": -10.2767,
                        "count": 0
                      },
                      {
                        "bin_start": -10.2767,
                        "bin_end": -9.0998,
                        "count": 2
                      },
                      {
                        "bin_start": -9.0998,
                        "bin_end": -7.9229,
                        "count": 0
                      },
                      {
                        "bin_start": -7.9229,
                        "bin_end": -6.746,
                        "count": 1
                      }
                    ]
                  }
                },
                {
                  "name": "mode",
                  "dtype": "int64",
                  "stats": {
                    "unique_count": 2,
                    "nan_count": 0,
                    "min": "0",
                    "max": "1",
                    "histogram": [
                      {
                        "bin_start": 0,
                        "bin_end": 0.1,
                        "count": 1
                      },
                      {
                        "bin_start": 0.1,
                        "bin_end": 0.2,
                        "count": 0
                      },
                      {
                        "bin_start": 0.2,
                        "bin_end": 0.30000000000000004,
                        "count": 0
                      },
                      {
                        "bin_start": 0.30000000000000004,
                        "bin_end": 0.4,
                        "count": 0
                      },
                      {
                        "bin_start": 0.4,
                        "bin_end": 0.5,
                        "count": 0
                      },
                      {
                        "bin_start": 0.5,
                        "bin_end": 0.6000000000000001,
                        "count": 0
                      },
                      {
                        "bin_start": 0.6000000000000001,
                        "bin_end": 0.7000000000000001,
                        "count": 0
                      },
                      {
                        "bin_start": 0.7000000000000001,
                        "bin_end": 0.8,
                        "count": 0
                      },
                      {
                        "bin_start": 0.8,
                        "bin_end": 0.9,
                        "count": 0
                      },
                      {
                        "bin_start": 0.9,
                        "bin_end": 1,
                        "count": 4
                      }
                    ]
                  }
                },
                {
                  "name": "speechiness",
                  "dtype": "float64",
                  "stats": {
                    "unique_count": 5,
                    "nan_count": 0,
                    "min": "0.0363",
                    "max": "0.143",
                    "histogram": [
                      {
                        "bin_start": 0.0363,
                        "bin_end": 0.04697,
                        "count": 1
                      },
                      {
                        "bin_start": 0.04697,
                        "bin_end": 0.05764,
                        "count": 2
                      },
                      {
                        "bin_start": 0.05764,
                        "bin_end": 0.06831,
                        "count": 0
                      },
                      {
                        "bin_start": 0.06831,
                        "bin_end": 0.07898,
                        "count": 1
                      },
                      {
                        "bin_start": 0.07898,
                        "bin_end": 0.08965,
                        "count": 0
                      },
                      {
                        "bin_start": 0.08965,
                        "bin_end": 0.10031999999999999,
                        "count": 0
                      },
                      {
                        "bin_start": 0.10031999999999999,
                        "bin_end": 0.11098999999999999,
                        "count": 0
                      },
                      {
                        "bin_start": 0.11098999999999999,
                        "bin_end": 0.12165999999999999,
                        "count": 0
                      },
                      {
                        "bin_start": 0.12165999999999999,
                        "bin_end": 0.13233,
                        "count": 0
                      },
                      {
                        "bin_start": 0.13233,
                        "bin_end": 0.143,
                        "count": 1
                      }
                    ]
                  }
                },
                {
                  "name": "acousticness",
                  "dtype": "float64",
                  "stats": {
                    "unique_count": 5,
                    "nan_count": 0,
                    "min": "0.0322",
                    "max": "0.924",
                    "histogram": [
                      {
                        "bin_start": 0.0322,
                        "bin_end": 0.12138000000000002,
                        "count": 1
                      },
                      {
                        "bin_start": 0.12138000000000002,
                        "bin_end": 0.21056000000000002,
                        "count": 1
                      },
                      {
                        "bin_start": 0.21056000000000002,
                        "bin_end": 0.29974,
                        "count": 0
                      },
                      {
                        "bin_start": 0.29974,
                        "bin_end": 0.38892000000000004,
                        "count": 0
                      },
                      {
                        "bin_start": 0.38892000000000004,
                        "bin_end": 0.4781000000000001,
                        "count": 1
                      },
                      {
                        "bin_start": 0.4781000000000001,
                        "bin_end": 0.56728,
                        "count": 0
                      },
                      {
                        "bin_start": 0.56728,
                        "bin_end": 0.65646,
                        "count": 0
                      },
                      {
                        "bin_start": 0.65646,
                        "bin_end": 0.7456400000000001,
                        "count": 0
                      },
                      {
                        "bin_start": 0.7456400000000001,
                        "bin_end": 0.8348200000000001,
                        "count": 0
                      },
                      {
                        "bin_start": 0.8348200000000001,
                        "bin_end": 0.924,
                        "count": 2
                      }
                    ]
                  }
                },
                {
                  "name": "instrumentalness",
                  "dtype": "float64",
                  "stats": {
                    "unique_count": 4,
                    "nan_count": 0,
                    "min": "0.0",
                    "max": "7.07e-05",
                    "histogram": [
                      {
                        "bin_start": 0,
                        "bin_end": 0.00000707,
                        "count": 4
                      },
                      {
                        "bin_start": 0.00000707,
                        "bin_end": 0.00001414,
                        "count": 0
                      },
                      {
                        "bin_start": 0.00001414,
                        "bin_end": 0.000021210000000000002,
                        "count": 0
                      },
                      {
                        "bin_start": 0.000021210000000000002,
                        "bin_end": 0.00002828,
                        "count": 0
                      },
                      {
                        "bin_start": 0.00002828,
                        "bin_end": 0.00003535,
                        "count": 0
                      },
                      {
                        "bin_start": 0.00003535,
                        "bin_end": 0.000042420000000000004,
                        "count": 0
                      },
                      {
                        "bin_start": 0.000042420000000000004,
                        "bin_end": 0.00004949,
                        "count": 0
                      },
                      {
                        "bin_start": 0.00004949,
                        "bin_end": 0.00005656,
                        "count": 0
                      },
                      {
                        "bin_start": 0.00005656,
                        "bin_end": 0.00006363,
                        "count": 0
                      },
                      {
                        "bin_start": 0.00006363,
                        "bin_end": 0.0000707,
                        "count": 1
                      }
                    ]
                  }
                },
                {
                  "name": "liveness",
                  "dtype": "float64",
                  "stats": {
                    "unique_count": 5,
                    "nan_count": 0,
                    "min": "0.0829",
                    "max": "0.358",
                    "histogram": [
                      {
                        "bin_start": 0.0829,
                        "bin_end": 0.11041000000000001,
                        "count": 2
                      },
                      {
                        "bin_start": 0.11041000000000001,
                        "bin_end": 0.13792,
                        "count": 2
                      },
                      {
                        "bin_start": 0.13792,
                        "bin_end": 0.16543,
                        "count": 0
                      },
                      {
                        "bin_start": 0.16543,
                        "bin_end": 0.19294,
                        "count": 0
                      },
                      {
                        "bin_start": 0.19294,
                        "bin_end": 0.22045,
                        "count": 0
                      },
                      {
                        "bin_start": 0.22045,
                        "bin_end": 0.24795999999999999,
                        "count": 0
                      },
                      {
                        "bin_start": 0.24795999999999999,
                        "bin_end": 0.27547,
                        "count": 0
                      },
                      {
                        "bin_start": 0.27547,
                        "bin_end": 0.30298,
                        "count": 0
                      },
                      {
                        "bin_start": 0.30298,
                        "bin_end": 0.33049,
                        "count": 0
                      },
                      {
                        "bin_start": 0.33049,
                        "bin_end": 0.358,
                        "count": 1
                      }
                    ]
                  }
                },
                {
                  "name": "valence",
                  "dtype": "float64",
                  "stats": {
                    "unique_count": 5,
                    "nan_count": 0,
                    "min": "0.12",
                    "max": "0.715",
                    "histogram": [
                      {
                        "bin_start": 0.12,
                        "bin_end": 0.1795,
                        "count": 3
                      },
                      {
                        "bin_start": 0.1795,
                        "bin_end": 0.239,
                        "count": 0
                      },
                      {
                        "bin_start": 0.239,
                        "bin_end": 0.2985,
                        "count": 1
                      },
                      {
                        "bin_start": 0.2985,
                        "bin_end": 0.358,
                        "count": 0
                      },
                      {
                        "bin_start": 0.358,
                        "bin_end": 0.4175,
                        "count": 0
                      },
                      {
                        "bin_start": 0.4175,
                        "bin_end": 0.477,
                        "count": 0
                      },
                      {
                        "bin_start": 0.477,
                        "bin_end": 0.5365,
                        "count": 0
                      },
                      {
                        "bin_start": 0.5365,
                        "bin_end": 0.596,
                        "count": 0
                      },
                      {
                        "bin_start": 0.596,
                        "bin_end": 0.6555,
                        "count": 0
                      },
                      {
                        "bin_start": 0.6555,
                        "bin_end": 0.715,
                        "count": 1
                      }
                    ]
                  }
                },
                {
                  "name": "tempo",
                  "dtype": "float64",
                  "stats": {
                    "unique_count": 5,
                    "nan_count": 0,
                    "min": "76.332",
                    "max": "181.74",
                    "histogram": [
                      {
                        "bin_start": 76.332,
                        "bin_end": 86.8728,
                        "count": 2
                      },
                      {
                        "bin_start": 86.8728,
                        "bin_end": 97.4136,
                        "count": 1
                      },
                      {
                        "bin_start": 97.4136,
                        "bin_end": 107.95439999999999,
                        "count": 0
                      },
                      {
                        "bin_start": 107.95439999999999,
                        "bin_end": 118.4952,
                        "count": 0
                      },
                      {
                        "bin_start": 118.4952,
                        "bin_end": 129.036,
                        "count": 1
                      },
                      {
                        "bin_start": 129.036,
                        "bin_end": 139.5768,
                        "count": 0
                      },
                      {
                        "bin_start": 139.5768,
                        "bin_end": 150.11759999999998,
                        "count": 0
                      },
                      {
                        "bin_start": 150.11759999999998,
                        "bin_end": 160.6584,
                        "count": 0
                      },
                      {
                        "bin_start": 160.6584,
                        "bin_end": 171.19920000000002,
                        "count": 0
                      },
                      {
                        "bin_start": 171.19920000000002,
                        "bin_end": 181.74,
                        "count": 1
                      }
                    ]
                  }
                },
                {
                  "name": "time_signature",
                  "dtype": "int64",
                  "stats": {
                    "unique_count": 2,
                    "nan_count": 0,
                    "min": "3",
                    "max": "4",
                    "histogram": [
                      {
                        "bin_start": 3,
                        "bin_end": 3.1,
                        "count": 1
                      },
                      {
                        "bin_start": 3.1,
                        "bin_end": 3.2,
                        "count": 0
                      },
                      {
                        "bin_start": 3.2,
                        "bin_end": 3.3,
                        "count": 0
                      },
                      {
                        "bin_start": 3.3,
                        "bin_end": 3.4,
                        "count": 0
                      },
                      {
                        "bin_start": 3.4,
                        "bin_end": 3.5,
                        "count": 0
                      },
                      {
                        "bin_start": 3.5,
                        "bin_end": 3.6,
                        "count": 0
                      },
                      {
                        "bin_start": 3.6,
                        "bin_end": 3.7,
                        "count": 0
                      },
                      {
                        "bin_start": 3.7,
                        "bin_end": 3.8,
                        "count": 0
                      },
                      {
                        "bin_start": 3.8,
                        "bin_end": 3.9,
                        "count": 0
                      },
                      {
                        "bin_start": 3.9,
                        "bin_end": 4,
                        "count": 4
                      }
                    ]
                  }
                },
                {
                  "name": "track_genre",
                  "dtype": "object",
                  "stats": {
                    "unique_count": 1,
                    "nan_count": 0,
                    "categories": [
                      {
                        "name": "acoustic",
                        "count": 5
                      }
                    ]
                  }
                },
                {
                  "name": "_deepnote_index_column",
                  "dtype": "int64"
                }
              ],
              "rows": [
                {
                  "Unnamed: 0": 0,
                  "track_id": "5SuOikwiRyPMVoIQDJUgSV",
                  "artists": "Gen Hoshino",
                  "album_name": "Comedy",
                  "track_name": "Comedy",
                  "popularity": 73,
                  "duration_ms": 230666,
                  "explicit": "False",
                  "danceability": 0.676,
                  "energy": 0.461,
                  "key": 1,
                  "loudness": -6.746,
                  "mode": 0,
                  "speechiness": 0.143,
                  "acousticness": 0.0322,
                  "instrumentalness": 0.00000101,
                  "liveness": 0.358,
                  "valence": 0.715,
                  "tempo": 87.917,
                  "time_signature": 4,
                  "track_genre": "acoustic",
                  "_deepnote_index_column": 0
                },
                {
                  "Unnamed: 0": 1,
                  "track_id": "4qPNDBW1i3p13qLCt0Ki3A",
                  "artists": "Ben Woodward",
                  "album_name": "Ghost (Acoustic)",
                  "track_name": "Ghost - Acoustic",
                  "popularity": 55,
                  "duration_ms": 149610,
                  "explicit": "False",
                  "danceability": 0.42,
                  "energy": 0.166,
                  "key": 1,
                  "loudness": -17.235,
                  "mode": 1,
                  "speechiness": 0.0763,
                  "acousticness": 0.924,
                  "instrumentalness": 0.00000556,
                  "liveness": 0.101,
                  "valence": 0.267,
                  "tempo": 77.489,
                  "time_signature": 4,
                  "track_genre": "acoustic",
                  "_deepnote_index_column": 1
                },
                {
                  "Unnamed: 0": 2,
                  "track_id": "1iJBSr7s7jYXzM8EGcbK5b",
                  "artists": "Ingrid Michaelson;ZAYN",
                  "album_name": "To Begin Again",
                  "track_name": "To Begin Again",
                  "popularity": 57,
                  "duration_ms": 210826,
                  "explicit": "False",
                  "danceability": 0.438,
                  "energy": 0.359,
                  "key": 0,
                  "loudness": -9.734,
                  "mode": 1,
                  "speechiness": 0.0557,
                  "acousticness": 0.21,
                  "instrumentalness": 0,
                  "liveness": 0.117,
                  "valence": 0.12,
                  "tempo": 76.332,
                  "time_signature": 4,
                  "track_genre": "acoustic",
                  "_deepnote_index_column": 2
                },
                {
                  "Unnamed: 0": 3,
                  "track_id": "6lfxq3CG4xtTiEg7opyCyx",
                  "artists": "Kina Grannis",
                  "album_name": "Crazy Rich Asians (Original Motion Picture Soundtrack)",
                  "track_name": "Can't Help Falling In Love",
                  "popularity": 71,
                  "duration_ms": 201933,
                  "explicit": "False",
                  "danceability": 0.266,
                  "energy": 0.0596,
                  "key": 0,
                  "loudness": -18.515,
                  "mode": 1,
                  "speechiness": 0.0363,
                  "acousticness": 0.905,
                  "instrumentalness": 0.0000707,
                  "liveness": 0.132,
                  "valence": 0.143,
                  "tempo": 181.74,
                  "time_signature": 3,
                  "track_genre": "acoustic",
                  "_deepnote_index_column": 3
                },
                {
                  "Unnamed: 0": 4,
                  "track_id": "5vjLSffimiIP26QG5WcN2K",
                  "artists": "Chord Overstreet",
                  "album_name": "Hold On",
                  "track_name": "Hold On",
                  "popularity": 82,
                  "duration_ms": 198853,
                  "explicit": "False",
                  "danceability": 0.618,
                  "energy": 0.443,
                  "key": 2,
                  "loudness": -9.681,
                  "mode": 1,
                  "speechiness": 0.0526,
                  "acousticness": 0.469,
                  "instrumentalness": 0,
                  "liveness": 0.0829,
                  "valence": 0.167,
                  "tempo": 119.949,
                  "time_signature": 4,
                  "track_genre": "acoustic",
                  "_deepnote_index_column": 4
                }
              ]
            },
            "text/plain": "   Unnamed: 0                track_id                 artists  \\\n0           0  5SuOikwiRyPMVoIQDJUgSV             Gen Hoshino   \n1           1  4qPNDBW1i3p13qLCt0Ki3A            Ben Woodward   \n2           2  1iJBSr7s7jYXzM8EGcbK5b  Ingrid Michaelson;ZAYN   \n3           3  6lfxq3CG4xtTiEg7opyCyx            Kina Grannis   \n4           4  5vjLSffimiIP26QG5WcN2K        Chord Overstreet   \n\n                                          album_name  \\\n0                                             Comedy   \n1                                   Ghost (Acoustic)   \n2                                     To Begin Again   \n3  Crazy Rich Asians (Original Motion Picture Sou...   \n4                                            Hold On   \n\n                   track_name  popularity  duration_ms  explicit  \\\n0                      Comedy          73       230666     False   \n1            Ghost - Acoustic          55       149610     False   \n2              To Begin Again          57       210826     False   \n3  Can't Help Falling In Love          71       201933     False   \n4                     Hold On          82       198853     False   \n\n   danceability  energy  ...  loudness  mode  speechiness  acousticness  \\\n0         0.676  0.4610  ...    -6.746     0       0.1430        0.0322   \n1         0.420  0.1660  ...   -17.235     1       0.0763        0.9240   \n2         0.438  0.3590  ...    -9.734     1       0.0557        0.2100   \n3         0.266  0.0596  ...   -18.515     1       0.0363        0.9050   \n4         0.618  0.4430  ...    -9.681     1       0.0526        0.4690   \n\n   instrumentalness  liveness  valence    tempo  time_signature  track_genre  \n0          0.000001    0.3580    0.715   87.917               4     acoustic  \n1          0.000006    0.1010    0.267   77.489               4     acoustic  \n2          0.000000    0.1170    0.120   76.332               4     acoustic  \n3          0.000071    0.1320    0.143  181.740               3     acoustic  \n4          0.000000    0.0829    0.167  119.949               4     acoustic  \n\n[5 rows x 21 columns]",
            "text/html": "<div>\n<style scoped>\n    .dataframe tbody tr th:only-of-type {\n        vertical-align: middle;\n    }\n\n    .dataframe tbody tr th {\n        vertical-align: top;\n    }\n\n    .dataframe thead th {\n        text-align: right;\n    }\n</style>\n<table border=\"1\" class=\"dataframe\">\n  <thead>\n    <tr style=\"text-align: right;\">\n      <th></th>\n      <th>Unnamed: 0</th>\n      <th>track_id</th>\n      <th>artists</th>\n      <th>album_name</th>\n      <th>track_name</th>\n      <th>popularity</th>\n      <th>duration_ms</th>\n      <th>explicit</th>\n      <th>danceability</th>\n      <th>energy</th>\n      <th>...</th>\n      <th>loudness</th>\n      <th>mode</th>\n      <th>speechiness</th>\n      <th>acousticness</th>\n      <th>instrumentalness</th>\n      <th>liveness</th>\n      <th>valence</th>\n      <th>tempo</th>\n      <th>time_signature</th>\n      <th>track_genre</th>\n    </tr>\n  </thead>\n  <tbody>\n    <tr>\n      <th>0</th>\n      <td>0</td>\n      <td>5SuOikwiRyPMVoIQDJUgSV</td>\n      <td>Gen Hoshino</td>\n      <td>Comedy</td>\n      <td>Comedy</td>\n      <td>73</td>\n      <td>230666</td>\n      <td>False</td>\n      <td>0.676</td>\n      <td>0.4610</td>\n      <td>...</td>\n      <td>-6.746</td>\n      <td>0</td>\n      <td>0.1430</td>\n      <td>0.0322</td>\n      <td>0.000001</td>\n      <td>0.3580</td>\n      <td>0.715</td>\n      <td>87.917</td>\n      <td>4</td>\n      <td>acoustic</td>\n    </tr>\n    <tr>\n      <th>1</th>\n      <td>1</td>\n      <td>4qPNDBW1i3p13qLCt0Ki3A</td>\n      <td>Ben Woodward</td>\n      <td>Ghost (Acoustic)</td>\n      <td>Ghost - Acoustic</td>\n      <td>55</td>\n      <td>149610</td>\n      <td>False</td>\n      <td>0.420</td>\n      <td>0.1660</td>\n      <td>...</td>\n      <td>-17.235</td>\n      <td>1</td>\n      <td>0.0763</td>\n      <td>0.9240</td>\n      <td>0.000006</td>\n      <td>0.1010</td>\n      <td>0.267</td>\n      <td>77.489</td>\n      <td>4</td>\n      <td>acoustic</td>\n    </tr>\n    <tr>\n      <th>2</th>\n      <td>2</td>\n      <td>1iJBSr7s7jYXzM8EGcbK5b</td>\n      <td>Ingrid Michaelson;ZAYN</td>\n      <td>To Begin Again</td>\n      <td>To Begin Again</td>\n      <td>57</td>\n      <td>210826</td>\n      <td>False</td>\n      <td>0.438</td>\n      <td>0.3590</td>\n      <td>...</td>\n      <td>-9.734</td>\n      <td>1</td>\n      <td>0.0557</td>\n      <td>0.2100</td>\n      <td>0.000000</td>\n      <td>0.1170</td>\n      <td>0.120</td>\n      <td>76.332</td>\n      <td>4</td>\n      <td>acoustic</td>\n    </tr>\n    <tr>\n      <th>3</th>\n      <td>3</td>\n      <td>6lfxq3CG4xtTiEg7opyCyx</td>\n      <td>Kina Grannis</td>\n      <td>Crazy Rich Asians (Original Motion Picture Sou...</td>\n      <td>Can't Help Falling In Love</td>\n      <td>71</td>\n      <td>201933</td>\n      <td>False</td>\n      <td>0.266</td>\n      <td>0.0596</td>\n      <td>...</td>\n      <td>-18.515</td>\n      <td>1</td>\n      <td>0.0363</td>\n      <td>0.9050</td>\n      <td>0.000071</td>\n      <td>0.1320</td>\n      <td>0.143</td>\n      <td>181.740</td>\n      <td>3</td>\n      <td>acoustic</td>\n    </tr>\n    <tr>\n      <th>4</th>\n      <td>4</td>\n      <td>5vjLSffimiIP26QG5WcN2K</td>\n      <td>Chord Overstreet</td>\n      <td>Hold On</td>\n      <td>Hold On</td>\n      <td>82</td>\n      <td>198853</td>\n      <td>False</td>\n      <td>0.618</td>\n      <td>0.4430</td>\n      <td>...</td>\n      <td>-9.681</td>\n      <td>1</td>\n      <td>0.0526</td>\n      <td>0.4690</td>\n      <td>0.000000</td>\n      <td>0.0829</td>\n      <td>0.167</td>\n      <td>119.949</td>\n      <td>4</td>\n      <td>acoustic</td>\n    </tr>\n  </tbody>\n</table>\n<p>5 rows × 21 columns</p>\n</div>"
          },
          "metadata": {}
        }
      ],
      "outputs_reference": null,
      "execution_count": null,
      "block_group": "a3c6109a907d45c098e235d93db5c3b4",
      "content_dependencies": null
    },
    {
      "cell_type": "code",
      "source": "#drop all the rows that are null\ndata2 = data2.dropna()",
      "metadata": {
        "source_hash": null,
        "execution_start": 1713217392997,
        "execution_millis": 299,
        "deepnote_to_be_reexecuted": false,
        "cell_id": "714529846d9c49329cdb3bce8c9d0f3d",
        "deepnote_cell_type": "code"
      },
      "outputs": [],
      "outputs_reference": null,
      "execution_count": null,
      "block_group": "265d88448c3749d88212683619ceaea0",
      "content_dependencies": null
    },
    {
      "cell_type": "code",
      "source": "len(data2)",
      "metadata": {
        "source_hash": null,
        "execution_start": 1713217393083,
        "execution_millis": 213,
        "deepnote_to_be_reexecuted": false,
        "cell_id": "0fd5cd27a98f4229935d1f04af56e611",
        "deepnote_cell_type": "code"
      },
      "outputs": [
        {
          "output_type": "execute_result",
          "execution_count": 23,
          "data": {
            "text/plain": "113999"
          },
          "metadata": {}
        }
      ],
      "outputs_reference": null,
      "execution_count": null,
      "block_group": "661f522936f04d7c82ca1e53e1c81010",
      "content_dependencies": null
    },
    {
      "cell_type": "code",
      "source": "#make track_genre into label encoding\nlabelencoder = LabelEncoder()\ndata2['track_genre_num'] = labelencoder.fit_transform(data2['track_genre'])\ndata2",
      "metadata": {
        "source_hash": null,
        "execution_start": 1713217393109,
        "execution_millis": 193,
        "deepnote_to_be_reexecuted": false,
        "cell_id": "1eaa8b8ee49243a9ab5acee54d6780ab",
        "deepnote_cell_type": "code"
      },
      "outputs": [
        {
          "output_type": "execute_result",
          "execution_count": 24,
          "data": {
            "application/vnd.deepnote.dataframe.v3+json": {
              "column_count": 22,
              "row_count": 113999,
              "columns": [
                {
                  "name": "Unnamed: 0",
                  "dtype": "int64"
                },
                {
                  "name": "track_id",
                  "dtype": "object"
                },
                {
                  "name": "artists",
                  "dtype": "object"
                },
                {
                  "name": "album_name",
                  "dtype": "object"
                },
                {
                  "name": "track_name",
                  "dtype": "object"
                },
                {
                  "name": "popularity",
                  "dtype": "int64"
                },
                {
                  "name": "duration_ms",
                  "dtype": "int64"
                },
                {
                  "name": "explicit",
                  "dtype": "bool"
                },
                {
                  "name": "danceability",
                  "dtype": "float64"
                },
                {
                  "name": "energy",
                  "dtype": "float64"
                },
                {
                  "name": "key",
                  "dtype": "int64"
                },
                {
                  "name": "loudness",
                  "dtype": "float64"
                },
                {
                  "name": "mode",
                  "dtype": "int64"
                },
                {
                  "name": "speechiness",
                  "dtype": "float64"
                },
                {
                  "name": "acousticness",
                  "dtype": "float64"
                },
                {
                  "name": "instrumentalness",
                  "dtype": "float64"
                },
                {
                  "name": "liveness",
                  "dtype": "float64"
                },
                {
                  "name": "valence",
                  "dtype": "float64"
                },
                {
                  "name": "tempo",
                  "dtype": "float64"
                },
                {
                  "name": "time_signature",
                  "dtype": "int64"
                },
                {
                  "name": "track_genre",
                  "dtype": "object"
                },
                {
                  "name": "track_genre_num",
                  "dtype": "int64"
                },
                {
                  "name": "_deepnote_index_column",
                  "dtype": "int64"
                }
              ],
              "rows": [
                {
                  "Unnamed: 0": 0,
                  "track_id": "5SuOikwiRyPMVoIQDJUgSV",
                  "artists": "Gen Hoshino",
                  "album_name": "Comedy",
                  "track_name": "Comedy",
                  "popularity": 73,
                  "duration_ms": 230666,
                  "explicit": "False",
                  "danceability": 0.676,
                  "energy": 0.461,
                  "key": 1,
                  "loudness": -6.746,
                  "mode": 0,
                  "speechiness": 0.143,
                  "acousticness": 0.0322,
                  "instrumentalness": 0.00000101,
                  "liveness": 0.358,
                  "valence": 0.715,
                  "tempo": 87.917,
                  "time_signature": 4,
                  "track_genre": "acoustic",
                  "track_genre_num": 0,
                  "_deepnote_index_column": 0
                },
                {
                  "Unnamed: 0": 1,
                  "track_id": "4qPNDBW1i3p13qLCt0Ki3A",
                  "artists": "Ben Woodward",
                  "album_name": "Ghost (Acoustic)",
                  "track_name": "Ghost - Acoustic",
                  "popularity": 55,
                  "duration_ms": 149610,
                  "explicit": "False",
                  "danceability": 0.42,
                  "energy": 0.166,
                  "key": 1,
                  "loudness": -17.235,
                  "mode": 1,
                  "speechiness": 0.0763,
                  "acousticness": 0.924,
                  "instrumentalness": 0.00000556,
                  "liveness": 0.101,
                  "valence": 0.267,
                  "tempo": 77.489,
                  "time_signature": 4,
                  "track_genre": "acoustic",
                  "track_genre_num": 0,
                  "_deepnote_index_column": 1
                },
                {
                  "Unnamed: 0": 2,
                  "track_id": "1iJBSr7s7jYXzM8EGcbK5b",
                  "artists": "Ingrid Michaelson;ZAYN",
                  "album_name": "To Begin Again",
                  "track_name": "To Begin Again",
                  "popularity": 57,
                  "duration_ms": 210826,
                  "explicit": "False",
                  "danceability": 0.438,
                  "energy": 0.359,
                  "key": 0,
                  "loudness": -9.734,
                  "mode": 1,
                  "speechiness": 0.0557,
                  "acousticness": 0.21,
                  "instrumentalness": 0,
                  "liveness": 0.117,
                  "valence": 0.12,
                  "tempo": 76.332,
                  "time_signature": 4,
                  "track_genre": "acoustic",
                  "track_genre_num": 0,
                  "_deepnote_index_column": 2
                },
                {
                  "Unnamed: 0": 3,
                  "track_id": "6lfxq3CG4xtTiEg7opyCyx",
                  "artists": "Kina Grannis",
                  "album_name": "Crazy Rich Asians (Original Motion Picture Soundtrack)",
                  "track_name": "Can't Help Falling In Love",
                  "popularity": 71,
                  "duration_ms": 201933,
                  "explicit": "False",
                  "danceability": 0.266,
                  "energy": 0.0596,
                  "key": 0,
                  "loudness": -18.515,
                  "mode": 1,
                  "speechiness": 0.0363,
                  "acousticness": 0.905,
                  "instrumentalness": 0.0000707,
                  "liveness": 0.132,
                  "valence": 0.143,
                  "tempo": 181.74,
                  "time_signature": 3,
                  "track_genre": "acoustic",
                  "track_genre_num": 0,
                  "_deepnote_index_column": 3
                },
                {
                  "Unnamed: 0": 4,
                  "track_id": "5vjLSffimiIP26QG5WcN2K",
                  "artists": "Chord Overstreet",
                  "album_name": "Hold On",
                  "track_name": "Hold On",
                  "popularity": 82,
                  "duration_ms": 198853,
                  "explicit": "False",
                  "danceability": 0.618,
                  "energy": 0.443,
                  "key": 2,
                  "loudness": -9.681,
                  "mode": 1,
                  "speechiness": 0.0526,
                  "acousticness": 0.469,
                  "instrumentalness": 0,
                  "liveness": 0.0829,
                  "valence": 0.167,
                  "tempo": 119.949,
                  "time_signature": 4,
                  "track_genre": "acoustic",
                  "track_genre_num": 0,
                  "_deepnote_index_column": 4
                },
                {
                  "Unnamed: 0": 5,
                  "track_id": "01MVOl9KtVTNfFiBU9I7dc",
                  "artists": "Tyrone Wells",
                  "album_name": "Days I Will Remember",
                  "track_name": "Days I Will Remember",
                  "popularity": 58,
                  "duration_ms": 214240,
                  "explicit": "False",
                  "danceability": 0.688,
                  "energy": 0.481,
                  "key": 6,
                  "loudness": -8.807,
                  "mode": 1,
                  "speechiness": 0.105,
                  "acousticness": 0.289,
                  "instrumentalness": 0,
                  "liveness": 0.189,
                  "valence": 0.666,
                  "tempo": 98.017,
                  "time_signature": 4,
                  "track_genre": "acoustic",
                  "track_genre_num": 0,
                  "_deepnote_index_column": 5
                },
                {
                  "Unnamed: 0": 6,
                  "track_id": "6Vc5wAMmXdKIAM7WUoEb7N",
                  "artists": "A Great Big World;Christina Aguilera",
                  "album_name": "Is There Anybody Out There?",
                  "track_name": "Say Something",
                  "popularity": 74,
                  "duration_ms": 229400,
                  "explicit": "False",
                  "danceability": 0.407,
                  "energy": 0.147,
                  "key": 2,
                  "loudness": -8.822,
                  "mode": 1,
                  "speechiness": 0.0355,
                  "acousticness": 0.857,
                  "instrumentalness": 0.00000289,
                  "liveness": 0.0913,
                  "valence": 0.0765,
                  "tempo": 141.284,
                  "time_signature": 3,
                  "track_genre": "acoustic",
                  "track_genre_num": 0,
                  "_deepnote_index_column": 6
                },
                {
                  "Unnamed: 0": 7,
                  "track_id": "1EzrEOXmMH3G43AXT1y7pA",
                  "artists": "Jason Mraz",
                  "album_name": "We Sing. We Dance. We Steal Things.",
                  "track_name": "I'm Yours",
                  "popularity": 80,
                  "duration_ms": 242946,
                  "explicit": "False",
                  "danceability": 0.703,
                  "energy": 0.444,
                  "key": 11,
                  "loudness": -9.331,
                  "mode": 1,
                  "speechiness": 0.0417,
                  "acousticness": 0.559,
                  "instrumentalness": 0,
                  "liveness": 0.0973,
                  "valence": 0.712,
                  "tempo": 150.96,
                  "time_signature": 4,
                  "track_genre": "acoustic",
                  "track_genre_num": 0,
                  "_deepnote_index_column": 7
                },
                {
                  "Unnamed: 0": 8,
                  "track_id": "0IktbUcnAGrvD03AWnz3Q8",
                  "artists": "Jason Mraz;Colbie Caillat",
                  "album_name": "We Sing. We Dance. We Steal Things.",
                  "track_name": "Lucky",
                  "popularity": 74,
                  "duration_ms": 189613,
                  "explicit": "False",
                  "danceability": 0.625,
                  "energy": 0.414,
                  "key": 0,
                  "loudness": -8.7,
                  "mode": 1,
                  "speechiness": 0.0369,
                  "acousticness": 0.294,
                  "instrumentalness": 0,
                  "liveness": 0.151,
                  "valence": 0.669,
                  "tempo": 130.088,
                  "time_signature": 4,
                  "track_genre": "acoustic",
                  "track_genre_num": 0,
                  "_deepnote_index_column": 8
                },
                {
                  "Unnamed: 0": 9,
                  "track_id": "7k9GuJYLp2AzqokyEdwEw2",
                  "artists": "Ross Copperman",
                  "album_name": "Hunger",
                  "track_name": "Hunger",
                  "popularity": 56,
                  "duration_ms": 205594,
                  "explicit": "False",
                  "danceability": 0.442,
                  "energy": 0.632,
                  "key": 1,
                  "loudness": -6.77,
                  "mode": 1,
                  "speechiness": 0.0295,
                  "acousticness": 0.426,
                  "instrumentalness": 0.00419,
                  "liveness": 0.0735,
                  "valence": 0.196,
                  "tempo": 78.899,
                  "time_signature": 4,
                  "track_genre": "acoustic",
                  "track_genre_num": 0,
                  "_deepnote_index_column": 9
                }
              ]
            },
            "text/plain": "        Unnamed: 0                track_id                 artists  \\\n0                0  5SuOikwiRyPMVoIQDJUgSV             Gen Hoshino   \n1                1  4qPNDBW1i3p13qLCt0Ki3A            Ben Woodward   \n2                2  1iJBSr7s7jYXzM8EGcbK5b  Ingrid Michaelson;ZAYN   \n3                3  6lfxq3CG4xtTiEg7opyCyx            Kina Grannis   \n4                4  5vjLSffimiIP26QG5WcN2K        Chord Overstreet   \n...            ...                     ...                     ...   \n113995      113995  2C3TZjDRiAzdyViavDJ217           Rainy Lullaby   \n113996      113996  1hIz5L4IB9hN3WRYPOCGPw           Rainy Lullaby   \n113997      113997  6x8ZfSoqDjuNa5SVP5QjvX           Cesária Evora   \n113998      113998  2e6sXL2bYv4bSz6VTdnfLs        Michael W. Smith   \n113999      113999  2hETkH7cOfqmz3LqZDHZf5           Cesária Evora   \n\n                                               album_name  \\\n0                                                  Comedy   \n1                                        Ghost (Acoustic)   \n2                                          To Begin Again   \n3       Crazy Rich Asians (Original Motion Picture Sou...   \n4                                                 Hold On   \n...                                                   ...   \n113995  #mindfulness - Soft Rain for Mindful Meditatio...   \n113996  #mindfulness - Soft Rain for Mindful Meditatio...   \n113997                                            Best Of   \n113998                                  Change Your World   \n113999                                     Miss Perfumado   \n\n                        track_name  popularity  duration_ms  explicit  \\\n0                           Comedy          73       230666     False   \n1                 Ghost - Acoustic          55       149610     False   \n2                   To Begin Again          57       210826     False   \n3       Can't Help Falling In Love          71       201933     False   \n4                          Hold On          82       198853     False   \n...                            ...         ...          ...       ...   \n113995         Sleep My Little Boy          21       384999     False   \n113996            Water Into Light          22       385000     False   \n113997              Miss Perfumado          22       271466     False   \n113998                     Friends          41       283893     False   \n113999                   Barbincor          22       241826     False   \n\n        danceability  energy  ...  mode  speechiness  acousticness  \\\n0              0.676  0.4610  ...     0       0.1430        0.0322   \n1              0.420  0.1660  ...     1       0.0763        0.9240   \n2              0.438  0.3590  ...     1       0.0557        0.2100   \n3              0.266  0.0596  ...     1       0.0363        0.9050   \n4              0.618  0.4430  ...     1       0.0526        0.4690   \n...              ...     ...  ...   ...          ...           ...   \n113995         0.172  0.2350  ...     1       0.0422        0.6400   \n113996         0.174  0.1170  ...     0       0.0401        0.9940   \n113997         0.629  0.3290  ...     0       0.0420        0.8670   \n113998         0.587  0.5060  ...     1       0.0297        0.3810   \n113999         0.526  0.4870  ...     0       0.0725        0.6810   \n\n        instrumentalness  liveness  valence    tempo  time_signature  \\\n0               0.000001    0.3580   0.7150   87.917               4   \n1               0.000006    0.1010   0.2670   77.489               4   \n2               0.000000    0.1170   0.1200   76.332               4   \n3               0.000071    0.1320   0.1430  181.740               3   \n4               0.000000    0.0829   0.1670  119.949               4   \n...                  ...       ...      ...      ...             ...   \n113995          0.928000    0.0863   0.0339  125.995               5   \n113996          0.976000    0.1050   0.0350   85.239               4   \n113997          0.000000    0.0839   0.7430  132.378               4   \n113998          0.000000    0.2700   0.4130  135.960               4   \n113999          0.000000    0.0893   0.7080   79.198               4   \n\n        track_genre  track_genre_num  \n0          acoustic                0  \n1          acoustic                0  \n2          acoustic                0  \n3          acoustic                0  \n4          acoustic                0  \n...             ...              ...  \n113995  world-music              113  \n113996  world-music              113  \n113997  world-music              113  \n113998  world-music              113  \n113999  world-music              113  \n\n[113999 rows x 22 columns]",
            "text/html": "<div>\n<style scoped>\n    .dataframe tbody tr th:only-of-type {\n        vertical-align: middle;\n    }\n\n    .dataframe tbody tr th {\n        vertical-align: top;\n    }\n\n    .dataframe thead th {\n        text-align: right;\n    }\n</style>\n<table border=\"1\" class=\"dataframe\">\n  <thead>\n    <tr style=\"text-align: right;\">\n      <th></th>\n      <th>Unnamed: 0</th>\n      <th>track_id</th>\n      <th>artists</th>\n      <th>album_name</th>\n      <th>track_name</th>\n      <th>popularity</th>\n      <th>duration_ms</th>\n      <th>explicit</th>\n      <th>danceability</th>\n      <th>energy</th>\n      <th>...</th>\n      <th>mode</th>\n      <th>speechiness</th>\n      <th>acousticness</th>\n      <th>instrumentalness</th>\n      <th>liveness</th>\n      <th>valence</th>\n      <th>tempo</th>\n      <th>time_signature</th>\n      <th>track_genre</th>\n      <th>track_genre_num</th>\n    </tr>\n  </thead>\n  <tbody>\n    <tr>\n      <th>0</th>\n      <td>0</td>\n      <td>5SuOikwiRyPMVoIQDJUgSV</td>\n      <td>Gen Hoshino</td>\n      <td>Comedy</td>\n      <td>Comedy</td>\n      <td>73</td>\n      <td>230666</td>\n      <td>False</td>\n      <td>0.676</td>\n      <td>0.4610</td>\n      <td>...</td>\n      <td>0</td>\n      <td>0.1430</td>\n      <td>0.0322</td>\n      <td>0.000001</td>\n      <td>0.3580</td>\n      <td>0.7150</td>\n      <td>87.917</td>\n      <td>4</td>\n      <td>acoustic</td>\n      <td>0</td>\n    </tr>\n    <tr>\n      <th>1</th>\n      <td>1</td>\n      <td>4qPNDBW1i3p13qLCt0Ki3A</td>\n      <td>Ben Woodward</td>\n      <td>Ghost (Acoustic)</td>\n      <td>Ghost - Acoustic</td>\n      <td>55</td>\n      <td>149610</td>\n      <td>False</td>\n      <td>0.420</td>\n      <td>0.1660</td>\n      <td>...</td>\n      <td>1</td>\n      <td>0.0763</td>\n      <td>0.9240</td>\n      <td>0.000006</td>\n      <td>0.1010</td>\n      <td>0.2670</td>\n      <td>77.489</td>\n      <td>4</td>\n      <td>acoustic</td>\n      <td>0</td>\n    </tr>\n    <tr>\n      <th>2</th>\n      <td>2</td>\n      <td>1iJBSr7s7jYXzM8EGcbK5b</td>\n      <td>Ingrid Michaelson;ZAYN</td>\n      <td>To Begin Again</td>\n      <td>To Begin Again</td>\n      <td>57</td>\n      <td>210826</td>\n      <td>False</td>\n      <td>0.438</td>\n      <td>0.3590</td>\n      <td>...</td>\n      <td>1</td>\n      <td>0.0557</td>\n      <td>0.2100</td>\n      <td>0.000000</td>\n      <td>0.1170</td>\n      <td>0.1200</td>\n      <td>76.332</td>\n      <td>4</td>\n      <td>acoustic</td>\n      <td>0</td>\n    </tr>\n    <tr>\n      <th>3</th>\n      <td>3</td>\n      <td>6lfxq3CG4xtTiEg7opyCyx</td>\n      <td>Kina Grannis</td>\n      <td>Crazy Rich Asians (Original Motion Picture Sou...</td>\n      <td>Can't Help Falling In Love</td>\n      <td>71</td>\n      <td>201933</td>\n      <td>False</td>\n      <td>0.266</td>\n      <td>0.0596</td>\n      <td>...</td>\n      <td>1</td>\n      <td>0.0363</td>\n      <td>0.9050</td>\n      <td>0.000071</td>\n      <td>0.1320</td>\n      <td>0.1430</td>\n      <td>181.740</td>\n      <td>3</td>\n      <td>acoustic</td>\n      <td>0</td>\n    </tr>\n    <tr>\n      <th>4</th>\n      <td>4</td>\n      <td>5vjLSffimiIP26QG5WcN2K</td>\n      <td>Chord Overstreet</td>\n      <td>Hold On</td>\n      <td>Hold On</td>\n      <td>82</td>\n      <td>198853</td>\n      <td>False</td>\n      <td>0.618</td>\n      <td>0.4430</td>\n      <td>...</td>\n      <td>1</td>\n      <td>0.0526</td>\n      <td>0.4690</td>\n      <td>0.000000</td>\n      <td>0.0829</td>\n      <td>0.1670</td>\n      <td>119.949</td>\n      <td>4</td>\n      <td>acoustic</td>\n      <td>0</td>\n    </tr>\n    <tr>\n      <th>...</th>\n      <td>...</td>\n      <td>...</td>\n      <td>...</td>\n      <td>...</td>\n      <td>...</td>\n      <td>...</td>\n      <td>...</td>\n      <td>...</td>\n      <td>...</td>\n      <td>...</td>\n      <td>...</td>\n      <td>...</td>\n      <td>...</td>\n      <td>...</td>\n      <td>...</td>\n      <td>...</td>\n      <td>...</td>\n      <td>...</td>\n      <td>...</td>\n      <td>...</td>\n      <td>...</td>\n    </tr>\n    <tr>\n      <th>113995</th>\n      <td>113995</td>\n      <td>2C3TZjDRiAzdyViavDJ217</td>\n      <td>Rainy Lullaby</td>\n      <td>#mindfulness - Soft Rain for Mindful Meditatio...</td>\n      <td>Sleep My Little Boy</td>\n      <td>21</td>\n      <td>384999</td>\n      <td>False</td>\n      <td>0.172</td>\n      <td>0.2350</td>\n      <td>...</td>\n      <td>1</td>\n      <td>0.0422</td>\n      <td>0.6400</td>\n      <td>0.928000</td>\n      <td>0.0863</td>\n      <td>0.0339</td>\n      <td>125.995</td>\n      <td>5</td>\n      <td>world-music</td>\n      <td>113</td>\n    </tr>\n    <tr>\n      <th>113996</th>\n      <td>113996</td>\n      <td>1hIz5L4IB9hN3WRYPOCGPw</td>\n      <td>Rainy Lullaby</td>\n      <td>#mindfulness - Soft Rain for Mindful Meditatio...</td>\n      <td>Water Into Light</td>\n      <td>22</td>\n      <td>385000</td>\n      <td>False</td>\n      <td>0.174</td>\n      <td>0.1170</td>\n      <td>...</td>\n      <td>0</td>\n      <td>0.0401</td>\n      <td>0.9940</td>\n      <td>0.976000</td>\n      <td>0.1050</td>\n      <td>0.0350</td>\n      <td>85.239</td>\n      <td>4</td>\n      <td>world-music</td>\n      <td>113</td>\n    </tr>\n    <tr>\n      <th>113997</th>\n      <td>113997</td>\n      <td>6x8ZfSoqDjuNa5SVP5QjvX</td>\n      <td>Cesária Evora</td>\n      <td>Best Of</td>\n      <td>Miss Perfumado</td>\n      <td>22</td>\n      <td>271466</td>\n      <td>False</td>\n      <td>0.629</td>\n      <td>0.3290</td>\n      <td>...</td>\n      <td>0</td>\n      <td>0.0420</td>\n      <td>0.8670</td>\n      <td>0.000000</td>\n      <td>0.0839</td>\n      <td>0.7430</td>\n      <td>132.378</td>\n      <td>4</td>\n      <td>world-music</td>\n      <td>113</td>\n    </tr>\n    <tr>\n      <th>113998</th>\n      <td>113998</td>\n      <td>2e6sXL2bYv4bSz6VTdnfLs</td>\n      <td>Michael W. Smith</td>\n      <td>Change Your World</td>\n      <td>Friends</td>\n      <td>41</td>\n      <td>283893</td>\n      <td>False</td>\n      <td>0.587</td>\n      <td>0.5060</td>\n      <td>...</td>\n      <td>1</td>\n      <td>0.0297</td>\n      <td>0.3810</td>\n      <td>0.000000</td>\n      <td>0.2700</td>\n      <td>0.4130</td>\n      <td>135.960</td>\n      <td>4</td>\n      <td>world-music</td>\n      <td>113</td>\n    </tr>\n    <tr>\n      <th>113999</th>\n      <td>113999</td>\n      <td>2hETkH7cOfqmz3LqZDHZf5</td>\n      <td>Cesária Evora</td>\n      <td>Miss Perfumado</td>\n      <td>Barbincor</td>\n      <td>22</td>\n      <td>241826</td>\n      <td>False</td>\n      <td>0.526</td>\n      <td>0.4870</td>\n      <td>...</td>\n      <td>0</td>\n      <td>0.0725</td>\n      <td>0.6810</td>\n      <td>0.000000</td>\n      <td>0.0893</td>\n      <td>0.7080</td>\n      <td>79.198</td>\n      <td>4</td>\n      <td>world-music</td>\n      <td>113</td>\n    </tr>\n  </tbody>\n</table>\n<p>113999 rows × 22 columns</p>\n</div>"
          },
          "metadata": {}
        }
      ],
      "outputs_reference": null,
      "execution_count": null,
      "block_group": "8a600f6cd0e7405e9769333e75aaa3f0",
      "content_dependencies": null
    },
    {
      "cell_type": "code",
      "source": "features2 = [\"popularity\", \"duration_ms\", \"danceability\", \"energy\", \"key\", \"loudness\", \"mode\", \"speechiness\", \"acousticness\", \"instrumentalness\", \"liveness\", \"valence\", \"tempo\", \"time_signature\"]\nlen(features2)",
      "metadata": {
        "source_hash": null,
        "execution_start": 1713217393308,
        "execution_millis": 160,
        "deepnote_to_be_reexecuted": false,
        "cell_id": "4bdda8f52cac42498d96c89910bae932",
        "deepnote_cell_type": "code"
      },
      "outputs": [
        {
          "output_type": "execute_result",
          "execution_count": 25,
          "data": {
            "text/plain": "14"
          },
          "metadata": {}
        }
      ],
      "outputs_reference": null,
      "execution_count": null,
      "block_group": "cadfcddf94734b8fa148703e4185e1e3",
      "content_dependencies": null
    },
    {
      "cell_type": "markdown",
      "source": "## CNN Baseline (Data 2)",
      "metadata": {
        "formattedRanges": [],
        "cell_id": "af0f305b29c94723aa96d75f6c48604b",
        "deepnote_cell_type": "text-cell-h2"
      },
      "block_group": "f3c599f3c2cb4478a767e71b037fd739"
    },
    {
      "cell_type": "code",
      "source": "# Separate features and target variable for data 2\nX2 = data2[features2]  # Features for data 2\ny2 = data2['track_genre_num']  # Target variable for data 2\n\n# Split the dataset into training and testing sets for data 2\nX_train2, X_test2, y_train2, y_test2 = train_test_split(X2, y2, test_size=0.2, random_state=1)\n\ny_train_encoded2 = labelencoder.fit_transform(y_train2)\ny_test_encoded2 = labelencoder.transform(y_test2)\n\n# Standardize the features for data 2 \nscaler = StandardScaler()\nX_train2 = scaler.fit_transform(X_train2)\nX_test2 = scaler.transform(X_test2)\n\n# Reshape the data for CNN input for data 2\nX_train2 = X_train2.reshape(X_train2.shape[0], X_train2.shape[1], 1)\nX_test2 = X_test2.reshape(X_test2.shape[0], X_test2.shape[1], 1)\n\n# Define the CNN model for data 2\nmodel2 = Sequential([\n    Conv1D(32, 3, activation='relu', input_shape=(X_train2.shape[1], 1)),\n    Conv1D(64, 3, activation='relu'),\n    Conv1D(128, 3, activation='relu'),\n    Flatten(),\n    Dense(128, activation='relu'),\n    Dense(len(np.unique(y2)), activation='softmax')\n])\n\n# Compile the model\nmodel2.compile(optimizer='adam', loss='sparse_categorical_crossentropy', metrics=['accuracy'])\n\n# Train the model for data 2\nmodel2.fit(X_train2, y_train_encoded2, epochs=5, batch_size=32, validation_data=(X_test2, y_test_encoded2))\n\n# Evaluate the model on the test set for data 2\ntest_loss2, test_acc2 = model2.evaluate(X_test2, y_test_encoded2)\nprint(\"Test Accuracy for Data 2:\", test_acc2)\n",
      "metadata": {
        "source_hash": null,
        "execution_start": 1713217932334,
        "execution_millis": 176473,
        "deepnote_to_be_reexecuted": false,
        "cell_id": "d42ee385c7ed4dd6b78553c3aa65431f",
        "deepnote_cell_type": "code"
      },
      "outputs": [
        {
          "name": "stdout",
          "text": "Epoch 1/5\n2850/2850 [==============================] - 35s 12ms/step - loss: 3.3422 - accuracy: 0.1872 - val_loss: 2.9731 - val_accuracy: 0.2380\nEpoch 2/5\n2850/2850 [==============================] - 35s 12ms/step - loss: 2.8621 - accuracy: 0.2645 - val_loss: 2.7864 - val_accuracy: 0.2735\nEpoch 3/5\n2850/2850 [==============================] - 35s 12ms/step - loss: 2.7053 - accuracy: 0.2916 - val_loss: 2.6947 - val_accuracy: 0.2954\nEpoch 4/5\n2850/2850 [==============================] - 34s 12ms/step - loss: 2.6146 - accuracy: 0.3075 - val_loss: 2.6364 - val_accuracy: 0.3024\nEpoch 5/5\n2850/2850 [==============================] - 34s 12ms/step - loss: 2.5490 - accuracy: 0.3185 - val_loss: 2.6120 - val_accuracy: 0.3101\n713/713 [==============================] - 3s 5ms/step - loss: 2.6120 - accuracy: 0.3101\nTest Accuracy for Data 2: 0.31013157963752747\n",
          "output_type": "stream"
        }
      ],
      "outputs_reference": null,
      "execution_count": null,
      "block_group": "518e3e65dd6a4a9293b8654da009fbfa",
      "content_dependencies": null
    },
    {
      "cell_type": "code",
      "source": "print(\"Shape of X_train2 before reshaping:\", X_train2.shape)\nprint(\"Shape of X_test2 before reshaping:\", X_test2.shape)\n\n# Reshape the data for CNN input for data 2\nX_train2 = X_train2.reshape(X_train2.shape[0], X_train2.shape[1], 1)\nX_test2 = X_test2.reshape(X_test2.shape[0], X_test2.shape[1], 1)\n\nprint(\"Shape of X_train2 after reshaping:\", X_train2.shape)\nprint(\"Shape of X_test2 after reshaping:\", X_test2.shape)\n",
      "metadata": {
        "source_hash": null,
        "execution_start": 1713218115492,
        "execution_millis": 80,
        "deepnote_to_be_reexecuted": false,
        "cell_id": "23e3c48489ae4faeb8f7c38d9de0d7d7",
        "deepnote_cell_type": "code"
      },
      "outputs": [
        {
          "name": "stdout",
          "text": "Shape of X_train2 before reshaping: (91199, 14, 1)\nShape of X_test2 before reshaping: (22800, 14, 1)\nShape of X_train2 after reshaping: (91199, 14, 1)\nShape of X_test2 after reshaping: (22800, 14, 1)\n",
          "output_type": "stream"
        }
      ],
      "outputs_reference": null,
      "execution_count": null,
      "block_group": "6d73c94763eb40bb8360a1ce5031ca80",
      "content_dependencies": null
    },
    {
      "cell_type": "markdown",
      "source": "## Attempt 1",
      "metadata": {
        "formattedRanges": [],
        "cell_id": "147f744b0e534f86bedc7daba70eb03a",
        "deepnote_cell_type": "text-cell-h2"
      },
      "block_group": "3925be3af4494b9e8cbf01ddc438a080"
    },
    {
      "cell_type": "code",
      "source": "model2 = Sequential([\n    Conv1D(32, 3, activation='relu', input_shape=(X_train2.shape[1], X_train2.shape[2]), padding='same'),\n    MaxPooling1D(2),\n    Conv1D(64, 3, activation='relu', padding='same'),\n    MaxPooling1D(2),\n    Conv1D(128, 3, activation='relu', padding='same'),\n    Flatten(),\n    Dense(128, activation='relu'),\n    Dense(len(np.unique(y2)), activation='softmax')\n])\n\n# Compile the model with a lower learning rate\nmodel2.compile(optimizer='adam', loss='sparse_categorical_crossentropy', metrics=['accuracy'])\n\n# Add early stopping to prevent overfitting\nearly_stopping = EarlyStopping(monitor='val_loss', patience=3, restore_best_weights=True)\n\n# Train the model with the enhanced architecture and regularization for data 2\nhistory2 = model2.fit(X_train2, y_train_encoded2, epochs=5, batch_size=32, validation_data=(X_test2, y_test_encoded2), callbacks=[early_stopping])\n\n# Evaluate the model for data 2\ntest_loss2, test_acc2 = model2.evaluate(X_test2, y_test_encoded2)\nprint(\"Test Accuracy for Data 2:\", test_acc2)",
      "metadata": {
        "source_hash": null,
        "execution_start": 1713218146243,
        "execution_millis": 139655,
        "deepnote_to_be_reexecuted": false,
        "cell_id": "a1539f818ebe4362a27a741c532fbd16",
        "deepnote_cell_type": "code"
      },
      "outputs": [
        {
          "name": "stdout",
          "text": "Epoch 1/5\n2850/2850 [==============================] - 29s 10ms/step - loss: 3.3392 - accuracy: 0.1885 - val_loss: 2.9589 - val_accuracy: 0.2408\nEpoch 2/5\n2850/2850 [==============================] - 27s 9ms/step - loss: 2.8581 - accuracy: 0.2623 - val_loss: 2.7808 - val_accuracy: 0.2734\nEpoch 3/5\n2850/2850 [==============================] - 27s 10ms/step - loss: 2.7238 - accuracy: 0.2863 - val_loss: 2.7157 - val_accuracy: 0.2881\nEpoch 4/5\n2850/2850 [==============================] - 27s 9ms/step - loss: 2.6399 - accuracy: 0.2980 - val_loss: 2.6752 - val_accuracy: 0.2901\nEpoch 5/5\n2850/2850 [==============================] - 27s 10ms/step - loss: 2.5762 - accuracy: 0.3113 - val_loss: 2.6448 - val_accuracy: 0.3000\n713/713 [==============================] - 3s 4ms/step - loss: 2.6448 - accuracy: 0.3000\nTest Accuracy for Data 2: 0.29995614290237427\n",
          "output_type": "stream"
        }
      ],
      "outputs_reference": null,
      "execution_count": null,
      "block_group": "ae2cb856c1e84feb8f915e8341777f97",
      "content_dependencies": null
    },
    {
      "cell_type": "code",
      "source": "print(\"Shape of X_train2 before reshaping:\", X_train2.shape)\nprint(\"Shape of X_test2 before reshaping:\", X_test2.shape)\n",
      "metadata": {
        "source_hash": null,
        "execution_start": 1713218427698,
        "execution_millis": 237,
        "deepnote_to_be_reexecuted": false,
        "cell_id": "ecc5a810857b4915b7f528dd43b11462",
        "deepnote_cell_type": "code"
      },
      "outputs": [
        {
          "name": "stdout",
          "text": "Shape of X_train2 before reshaping: (91199, 14, 1)\nShape of X_test2 before reshaping: (22800, 14, 1)\n",
          "output_type": "stream"
        }
      ],
      "outputs_reference": null,
      "execution_count": null,
      "block_group": "e4dbb41091dc49a0a2d73cbc67d12e4c",
      "content_dependencies": null
    },
    {
      "cell_type": "code",
      "source": "history2 = model2.fit(X_train2, y_train_encoded2, epochs=5, batch_size=32, validation_data=(X_test2, y_test_encoded2), callbacks=[early_stopping])\ntest_loss2, test_acc2 = model2.evaluate(X_test2, y_test_encoded2)\nprint(\"Test Accuracy for Data 2:\", test_acc2)\ny_pred2 = np.argmax(model2.predict(X_test2), axis=-1)",
      "metadata": {
        "source_hash": null,
        "execution_start": 1713218431909,
        "execution_millis": 145514,
        "deepnote_to_be_reexecuted": false,
        "cell_id": "0d96fe5628634964ab1a681c8ca507cc",
        "deepnote_cell_type": "code"
      },
      "outputs": [
        {
          "name": "stdout",
          "text": "Epoch 1/5\n2850/2850 [==============================] - 30s 10ms/step - loss: 2.5229 - accuracy: 0.3196 - val_loss: 2.6267 - val_accuracy: 0.3054\nEpoch 2/5\n2850/2850 [==============================] - 27s 10ms/step - loss: 2.4789 - accuracy: 0.3264 - val_loss: 2.6057 - val_accuracy: 0.3061\nEpoch 3/5\n2850/2850 [==============================] - 27s 9ms/step - loss: 2.4388 - accuracy: 0.3347 - val_loss: 2.6010 - val_accuracy: 0.3086\nEpoch 4/5\n2850/2850 [==============================] - 27s 9ms/step - loss: 2.4028 - accuracy: 0.3410 - val_loss: 2.5866 - val_accuracy: 0.3098\nEpoch 5/5\n2850/2850 [==============================] - 29s 10ms/step - loss: 2.3679 - accuracy: 0.3478 - val_loss: 2.5911 - val_accuracy: 0.3104\n713/713 [==============================] - 3s 4ms/step - loss: 2.5911 - accuracy: 0.3104\nTest Accuracy for Data 2: 0.3103947341442108\n713/713 [==============================] - 3s 3ms/step\n",
          "output_type": "stream"
        }
      ],
      "outputs_reference": null,
      "execution_count": null,
      "block_group": "3dde8eddf18c400a8b608fab8312fed3",
      "content_dependencies": null
    },
    {
      "cell_type": "code",
      "source": "cm2 = confusion_matrix(y_test_encoded2, y_pred2)\nplt.figure(figsize=(100, 80))\nConfusionMatrixDisplay(confusion_matrix=cm2, display_labels=np.unique(y_test_encoded2)).plot(cmap='Blues', values_format='d')\nplt.title('Confusion Matrix Data 2')\nplt.show()\n#print(\"Confusion Matrix:\")\n#print(conf_matrix)",
      "metadata": {
        "source_hash": null,
        "execution_start": 1713219337231,
        "execution_millis": 44035,
        "deepnote_to_be_reexecuted": false,
        "cell_id": "16e8753d0cb749c3a665ede8795785cb",
        "deepnote_cell_type": "code"
      },
      "outputs": [
        {
          "data": {
            "text/plain": "<Figure size 10000x8000 with 0 Axes>"
          },
          "metadata": {},
          "output_type": "display_data"
        },
        {
          "data": {
            "text/plain": "<Figure size 640x480 with 2 Axes>",
            "image/png": "[encoded data removed]"
          },
          "metadata": {
            "image/png": {
              "width": 525,
              "height": 455
            }
          },
          "output_type": "display_data"
        }
      ],
      "outputs_reference": null,
      "execution_count": null,
      "block_group": "a9a271b275cb44febf42fa71463fde27",
      "content_dependencies": null
    },
    {
      "cell_type": "code",
      "source": "unique_labels2 = np.unique(y_test_encoded2)\nclass_names2 = [str(label) for label in unique_labels]",
      "metadata": {
        "source_hash": null,
        "execution_start": 1713219392498,
        "execution_millis": 100,
        "deepnote_to_be_reexecuted": false,
        "cell_id": "7c5b0a1dee97482987c5629ceffd69e3",
        "deepnote_cell_type": "code"
      },
      "outputs": [],
      "outputs_reference": null,
      "execution_count": null,
      "block_group": "3a79127a735746aa8371f77ed7657674",
      "content_dependencies": null
    },
    {
      "cell_type": "code",
      "source": "print(\"Classification Report for Data 2:\")\nprint(classification_report(y_test_encoded2, y_pred2))",
      "metadata": {
        "source_hash": null,
        "execution_start": 1713219395719,
        "execution_millis": 229,
        "deepnote_to_be_reexecuted": false,
        "cell_id": "f3881e2c0a6e4928a21d0042e08cf823",
        "deepnote_cell_type": "code"
      },
      "outputs": [
        {
          "name": "stdout",
          "text": "Classification Report for Data 2:\n              precision    recall  f1-score   support\n\n           0       0.21      0.14      0.17       214\n           1       0.36      0.14      0.20       202\n           2       0.15      0.10      0.12       206\n           3       0.12      0.08      0.09       201\n           4       0.32      0.40      0.35       192\n           5       0.21      0.24      0.23       199\n           6       0.50      0.55      0.52       195\n           7       0.35      0.56      0.43       178\n           8       0.16      0.07      0.09       229\n           9       0.18      0.24      0.21       206\n          10       0.55      0.42      0.48       200\n          11       0.10      0.03      0.04       187\n          12       0.31      0.22      0.26       222\n          13       0.40      0.60      0.48       203\n          14       0.38      0.40      0.39       201\n          15       0.27      0.27      0.27       208\n          16       0.58      0.56      0.57       201\n          17       0.40      0.21      0.27       209\n          18       0.92      0.83      0.88       216\n          19       0.37      0.33      0.35       209\n          20       0.29      0.20      0.24       214\n          21       0.26      0.26      0.26       192\n          22       0.28      0.32      0.30       185\n          23       0.21      0.18      0.19       208\n          24       0.49      0.29      0.36       201\n          25       0.15      0.08      0.10       224\n          26       0.32      0.25      0.28       203\n          27       0.52      0.52      0.52       199\n          28       0.16      0.08      0.11       205\n          29       0.21      0.32      0.25       207\n          30       0.17      0.23      0.19       216\n          31       0.15      0.40      0.22       210\n          32       0.11      0.08      0.10       202\n          33       0.12      0.03      0.04       184\n          34       0.14      0.07      0.09       208\n          35       0.47      0.60      0.53       199\n          36       0.21      0.24      0.23       200\n          37       0.38      0.20      0.26       205\n          38       0.27      0.19      0.22       211\n          39       0.24      0.13      0.17       183\n          40       0.28      0.42      0.34       182\n          41       0.15      0.02      0.04       195\n          42       0.88      0.86      0.87       208\n          43       0.16      0.13      0.14       212\n          44       0.15      0.20      0.17       198\n          45       0.28      0.39      0.33       181\n          46       0.44      0.28      0.34       193\n          47       0.13      0.11      0.12       191\n          48       0.26      0.38      0.31       200\n          49       0.35      0.56      0.43       199\n          50       0.25      0.29      0.27       201\n          51       0.22      0.30      0.25       206\n          52       0.64      0.84      0.73       186\n          53       0.27      0.11      0.16       218\n          54       0.53      0.38      0.44       224\n          55       0.15      0.13      0.14       205\n          56       0.09      0.05      0.06       200\n          57       0.09      0.04      0.06       214\n          58       0.26      0.24      0.25       194\n          59       0.67      0.55      0.61       202\n          60       0.38      0.51      0.43       195\n          61       0.51      0.51      0.51       226\n          62       0.13      0.16      0.14       209\n          63       0.12      0.13      0.12       172\n          64       0.36      0.53      0.43       195\n          65       0.24      0.34      0.28       204\n          66       0.62      0.62      0.62       207\n          67       0.19      0.22      0.21       179\n          68       0.20      0.34      0.25       204\n          69       0.30      0.10      0.15       213\n          70       0.25      0.39      0.30       236\n          71       0.18      0.24      0.21       226\n          72       0.23      0.43      0.30       182\n          73       0.34      0.50      0.40       185\n          74       0.18      0.18      0.18       209\n          75       0.44      0.49      0.47       184\n          76       0.37      0.50      0.42       204\n          77       0.50      0.49      0.49       202\n          78       0.36      0.58      0.44       198\n          79       0.45      0.33      0.38       178\n          80       0.17      0.28      0.21       201\n          81       0.28      0.58      0.38       199\n          82       0.37      0.31      0.34       207\n          83       0.20      0.34      0.25       176\n          84       0.23      0.30      0.26       205\n          85       0.12      0.12      0.12       195\n          86       0.13      0.08      0.10       186\n          87       0.16      0.11      0.13       182\n          88       0.18      0.09      0.12       180\n          89       0.22      0.19      0.20       213\n          90       0.15      0.23      0.18       192\n          91       0.33      0.32      0.33       183\n          92       0.33      0.34      0.33       188\n          93       0.60      0.64      0.62       191\n          94       0.25      0.27      0.26       187\n          95       0.57      0.66      0.61       198\n          96       0.36      0.34      0.35       195\n          97       0.41      0.65      0.51       227\n          98       0.34      0.16      0.22       216\n          99       0.16      0.18      0.17       187\n         100       0.20      0.14      0.16       194\n         101       0.88      0.69      0.78       215\n         102       0.07      0.01      0.01       197\n         103       0.22      0.18      0.20       172\n         104       0.14      0.07      0.10       230\n         105       0.75      0.68      0.71       202\n         106       0.18      0.10      0.13       188\n         107       0.18      0.11      0.13       179\n         108       0.66      0.81      0.73       210\n         109       0.22      0.14      0.17       197\n         110       0.44      0.19      0.27       166\n         111       0.20      0.36      0.25       191\n         112       0.23      0.34      0.28       193\n         113       0.28      0.38      0.32       207\n\n    accuracy                           0.31     22800\n   macro avg       0.31      0.31      0.30     22800\nweighted avg       0.31      0.31      0.30     22800\n\n",
          "output_type": "stream"
        }
      ],
      "outputs_reference": null,
      "execution_count": null,
      "block_group": "70342004f45e4a5bb5c978535dd50d06",
      "content_dependencies": null
    },
    {
      "cell_type": "markdown",
      "source": "<a style='text-decoration:none;line-height:16px;display:flex;color:#5B5B62;padding:10px;justify-content:end;' href='https://deepnote.com?utm_source=created-in-deepnote-cell&projectId=3da032f1-e5ab-4726-ac09-eb3d9c053730' target=\"_blank\">\n<img alt='Created in deepnote.com' style='display:inline;max-height:16px;margin:0px;margin-right:7.5px;' src='data:image/svg+xml;base64,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' > </img>\nCreated in <span style='font-weight:600;margin-left:4px;'>Deepnote</span></a>",
      "metadata": {
        "created_in_deepnote_cell": true,
        "deepnote_cell_type": "markdown"
      }
    }
  ],
  "nbformat": 4,
  "nbformat_minor": 0,
  "metadata": {
    "deepnote_notebook_id": "cbb5ab70f24f47b382bb773c7cde19c5",
    "deepnote_execution_queue": []
  }
}