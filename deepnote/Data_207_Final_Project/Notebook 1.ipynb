{
  "cells": [
    {
      "cell_type": "code",
      "source": "from tensorflow.keras.models import Model\nfrom tensorflow.keras.layers import Dense, Flatten\nfrom tensorflow.keras.models import Sequential\nfrom tensorflow.keras.layers import Conv1D, MaxPooling1D, Dropout\nimport tensorflow as tf\nfrom tensorflow.keras.models import Sequential\nfrom tensorflow.keras.layers import Conv2D, MaxPooling2D, Flatten, Dense, Dropout\nfrom tensorflow.keras.optimizers import Adam\n\nimport pandas as pd\nimport numpy as np\nimport seaborn as sns\nimport matplotlib.pyplot as plt\nfrom sklearn.preprocessing import LabelEncoder, OneHotEncoder\n\nfrom sklearn.model_selection import train_test_split\nfrom sklearn.metrics import accuracy_score, classification_report\n\nfrom sklearn.metrics import confusion_matrix, ConfusionMatrixDisplay\n\nfrom sklearn.preprocessing import StandardScaler\nimport pandas as pd\nfrom sklearn.preprocessing import StandardScaler, LabelEncoder\nfrom tensorflow.keras.layers import Conv1D, MaxPooling1D\nfrom tensorflow.keras.layers import Dropout, BatchNormalization\nfrom tensorflow.keras.callbacks import EarlyStopping\n\nX1 = df1_encoded_cleaned_dropped.drop(columns=['music_genre_num'])\ny1 = df1_encoded_cleaned_dropped['music_genre_num']\nX_train1, X_test1, y_train1, y_test1 = train_test_split(X1, y1, test_size=0.2, random_state=42)\n\nX2 = df2_encoded_cleaned_dropped.drop(columns=['track_genre_num'])\ny2 = df2_encoded_cleaned_dropped['track_genre_num']\nX_train2, X_test2, y_train2, y_test2 = train_test_split(X2, y2, test_size=0.2, random_state=42)\n\n# XGBoost Model Training and Evaluation for Data 1\nxgb1 = XGBClassifier()\nxgb1.fit(X_train1, y_train1)\ny_pred1 = xgb1.predict(X_test1)\naccuracy1 = accuracy_score(y_test1, y_pred1)\nprint(\"Accuracy for Data 1:\", accuracy1)\nprint(\"Classification Report for Data 1:\")\nprint(classification_report(y_test1, y_pred1))\n\n# XGBoost Model Training and Evaluation for Data 2\nxgb2 = XGBClassifier()\nxgb2.fit(X_train2, y_train2)\ny_pred2 = xgb2.predict(X_test2)\naccuracy2 = accuracy_score(y_test2, y_pred2)\nprint(\"Accuracy for Data 2:\", accuracy2)\nprint(\"Classification Report for Data 2:\")\nprint(classification_report(y_test2, y_pred2))\n# Assuming your CNN model is defined as 'model'\n# Define the CNN model structure (same as before up to the flatten layer)\ndef create_cnn_feature_extractor(input_shape):\n    model = Sequential([\n        Conv1D(32, 3, activation='relu', input_shape=input_shape),\n        MaxPooling1D(2),\n        Dropout(0.2),\n        Conv1D(64, 3, activation='relu'),\n        MaxPooling1D(2),\n        Dropout(0.2),\n        Conv1D(128, 3, activation='relu'),\n        MaxPooling1D(2),\n        Dropout(0.2),\n        Flatten(),\n    ])\n    return model\n\n# Create a feature extractor model instance\ninput_shape = X_train1.shape[1:]  # X_train is your training data\ncnn_feature_extractor = create_cnn_feature_extractor(input_shape)\n\n# If you have trained the CNN, load the weights\n# cnn_feature_extractor.load_weights('path_to_your_cnn_weights.h5')\n\n# Extract features from the CNN\ncnn_features_train = cnn_feature_extractor.predict(X_train1)\ncnn_features_test = cnn_feature_extractor.predict(X_test1)\n",
      "metadata": {
        "source_hash": "d6dc4da4",
        "execution_start": 1713227030801,
        "execution_millis": 3282,
        "deepnote_to_be_reexecuted": false,
        "cell_id": "595f99deeeb747d5bf831b7724173c93",
        "deepnote_cell_type": "code"
      },
      "outputs": [
        {
          "name": "stderr",
          "text": "2024-04-16 00:23:50.762022: I tensorflow/core/platform/cpu_feature_guard.cc:193] This TensorFlow binary is optimized with oneAPI Deep Neural Network Library (oneDNN) to use the following CPU instructions in performance-critical operations:  AVX2 FMA\nTo enable them in other operations, rebuild TensorFlow with the appropriate compiler flags.\n2024-04-16 00:23:50.992256: W tensorflow/stream_executor/platform/default/dso_loader.cc:64] Could not load dynamic library 'libcudart.so.11.0'; dlerror: libcudart.so.11.0: cannot open shared object file: No such file or directory\n2024-04-16 00:23:50.992280: I tensorflow/stream_executor/cuda/cudart_stub.cc:29] Ignore above cudart dlerror if you do not have a GPU set up on your machine.\n2024-04-16 00:23:51.066637: E tensorflow/stream_executor/cuda/cuda_blas.cc:2981] Unable to register cuBLAS factory: Attempting to register factory for plugin cuBLAS when one has already been registered\n2024-04-16 00:23:51.932016: W tensorflow/stream_executor/platform/default/dso_loader.cc:64] Could not load dynamic library 'libnvinfer.so.7'; dlerror: libnvinfer.so.7: cannot open shared object file: No such file or directory\n2024-04-16 00:23:51.932088: W tensorflow/stream_executor/platform/default/dso_loader.cc:64] Could not load dynamic library 'libnvinfer_plugin.so.7'; dlerror: libnvinfer_plugin.so.7: cannot open shared object file: No such file or directory\n2024-04-16 00:23:51.932097: W tensorflow/compiler/tf2tensorrt/utils/py_utils.cc:38] TF-TRT Warning: Cannot dlopen some TensorRT libraries. If you would like to use Nvidia GPU with TensorRT, please make sure the missing libraries mentioned above are installed properly.\n",
          "output_type": "stream"
        },
        {
          "output_type": "error",
          "ename": "NameError",
          "evalue": "name 'df1_encoded_cleaned_dropped' is not defined",
          "traceback": [
            "\u001b[0;31m---------------------------------------------------------------------------\u001b[0m",
            "\u001b[0;31mNameError\u001b[0m                                 Traceback (most recent call last)",
            "Cell \u001b[0;32mIn [1], line 28\u001b[0m\n\u001b[1;32m     25\u001b[0m \u001b[38;5;28;01mfrom\u001b[39;00m \u001b[38;5;21;01mtensorflow\u001b[39;00m\u001b[38;5;21;01m.\u001b[39;00m\u001b[38;5;21;01mkeras\u001b[39;00m\u001b[38;5;21;01m.\u001b[39;00m\u001b[38;5;21;01mlayers\u001b[39;00m \u001b[38;5;28;01mimport\u001b[39;00m Dropout, BatchNormalization\n\u001b[1;32m     26\u001b[0m \u001b[38;5;28;01mfrom\u001b[39;00m \u001b[38;5;21;01mtensorflow\u001b[39;00m\u001b[38;5;21;01m.\u001b[39;00m\u001b[38;5;21;01mkeras\u001b[39;00m\u001b[38;5;21;01m.\u001b[39;00m\u001b[38;5;21;01mcallbacks\u001b[39;00m \u001b[38;5;28;01mimport\u001b[39;00m EarlyStopping\n\u001b[0;32m---> 28\u001b[0m X1 \u001b[38;5;241m=\u001b[39m \u001b[43mdf1_encoded_cleaned_dropped\u001b[49m\u001b[38;5;241m.\u001b[39mdrop(columns\u001b[38;5;241m=\u001b[39m[\u001b[38;5;124m'\u001b[39m\u001b[38;5;124mmusic_genre_num\u001b[39m\u001b[38;5;124m'\u001b[39m])\n\u001b[1;32m     29\u001b[0m y1 \u001b[38;5;241m=\u001b[39m df1_encoded_cleaned_dropped[\u001b[38;5;124m'\u001b[39m\u001b[38;5;124mmusic_genre_num\u001b[39m\u001b[38;5;124m'\u001b[39m]\n\u001b[1;32m     30\u001b[0m X_train1, X_test1, y_train1, y_test1 \u001b[38;5;241m=\u001b[39m train_test_split(X1, y1, test_size\u001b[38;5;241m=\u001b[39m\u001b[38;5;241m0.2\u001b[39m, random_state\u001b[38;5;241m=\u001b[39m\u001b[38;5;241m42\u001b[39m)\n",
            "\u001b[0;31mNameError\u001b[0m: name 'df1_encoded_cleaned_dropped' is not defined"
          ]
        }
      ],
      "outputs_reference": null,
      "execution_count": 1,
      "block_group": "595f99deeeb747d5bf831b7724173c93",
      "content_dependencies": null
    },
    {
      "cell_type": "code",
      "source": "#data from kaggle dataset: \"Prediction of music genre\"\ndata1 = pd.read_csv(\"music_genre.csv\")\n#data from kaggle data set: \"Spotify Tracks Dataset\"\ndata2 = pd.read_csv(\"dataset.csv\")",
      "metadata": {
        "source_hash": "3d663052",
        "deepnote_to_be_reexecuted": true,
        "cell_id": "c737df0e3dd74f0db462e25736e009b3",
        "deepnote_cell_type": "code"
      },
      "outputs": [],
      "outputs_reference": null,
      "execution_count": null,
      "block_group": "65cb590fbd9c4461a41766500c0afaf0",
      "content_dependencies": null
    },
    {
      "cell_type": "code",
      "source": "import xgboost as xgb\n\n# Prepare the data for XGBoost\ndtrain = xgb.DMatrix(cnn_features_train, label=y_train)  # y_train are your training labels\ndtest = xgb.DMatrix(cnn_features_test, label=y_test)  # y_test are your test labels\n\n# Set XGBoost parameters\nparams = {\n    'max_depth': 3,\n    'eta': 0.1,\n    'objective': 'multi:softmax',\n    'num_class': len(np.unique(y_train))  # Replace with the number of classes\n}\n\n# Train the XGBoost model\nxgb_model = xgb.train(params, dtrain, num_boost_round=100)\n\n# Predict with XGBoost model\nxgb_predictions = xgb_model.predict(dtest)\n",
      "metadata": {
        "source_hash": "afb53ad4",
        "deepnote_to_be_reexecuted": true,
        "cell_id": "a1a78907bed2419fae0d0ac0663d8bf1",
        "deepnote_cell_type": "code"
      },
      "outputs": [],
      "outputs_reference": null,
      "execution_count": null,
      "block_group": "8ed8df632e4a422c86a304e128d00fa5",
      "content_dependencies": null
    },
    {
      "cell_type": "code",
      "source": "from sklearn.metrics import accuracy_score\n\n# Calculate accuracy\naccuracy = accuracy_score(y_test, xgb_predictions)\nprint(\"Accuracy: %.2f%%\" % (accuracy * 100.0))\n",
      "metadata": {
        "source_hash": "174a52e4",
        "deepnote_to_be_reexecuted": true,
        "cell_id": "4e76acdb2a7946ef9d94c7d51a0fa717",
        "deepnote_cell_type": "code"
      },
      "outputs": [],
      "outputs_reference": null,
      "execution_count": null,
      "block_group": "655b406d415d4eee9a3926d5075c55a0",
      "content_dependencies": null
    },
    {
      "cell_type": "code",
      "source": "from sklearn.metrics import accuracy_score\n\n# y_test is your true labels for the test set\n# xgb_predictions is the array of predictions from the XGBoost model\naccuracy = accuracy_score(y_test, xgb_predictions)\nprint(f\"Combined CNN and XGBoost Model Accuracy: {accuracy * 100:.2f}%\")\n",
      "metadata": {
        "source_hash": "65e16676",
        "execution_start": 1713226664442,
        "execution_millis": 42,
        "deepnote_to_be_reexecuted": true,
        "cell_id": "df17498daa0d4560a7fc429d25b1a6ba",
        "deepnote_cell_type": "code"
      },
      "outputs": [
        {
          "output_type": "error",
          "ename": "NameError",
          "evalue": "name 'y_test' is not defined",
          "traceback": [
            "\u001b[0;31m---------------------------------------------------------------------------\u001b[0m",
            "\u001b[0;31mNameError\u001b[0m                                 Traceback (most recent call last)",
            "Cell \u001b[0;32mIn [2], line 5\u001b[0m\n\u001b[1;32m      1\u001b[0m \u001b[38;5;28;01mfrom\u001b[39;00m \u001b[38;5;21;01msklearn\u001b[39;00m\u001b[38;5;21;01m.\u001b[39;00m\u001b[38;5;21;01mmetrics\u001b[39;00m \u001b[38;5;28;01mimport\u001b[39;00m accuracy_score\n\u001b[1;32m      3\u001b[0m \u001b[38;5;66;03m# y_test is your true labels for the test set\u001b[39;00m\n\u001b[1;32m      4\u001b[0m \u001b[38;5;66;03m# xgb_predictions is the array of predictions from the XGBoost model\u001b[39;00m\n\u001b[0;32m----> 5\u001b[0m accuracy \u001b[38;5;241m=\u001b[39m accuracy_score(\u001b[43my_test\u001b[49m, xgb_predictions)\n\u001b[1;32m      6\u001b[0m \u001b[38;5;28mprint\u001b[39m(\u001b[38;5;124mf\u001b[39m\u001b[38;5;124m\"\u001b[39m\u001b[38;5;124mCombined CNN and XGBoost Model Accuracy: \u001b[39m\u001b[38;5;132;01m{\u001b[39;00maccuracy \u001b[38;5;241m*\u001b[39m \u001b[38;5;241m100\u001b[39m\u001b[38;5;132;01m:\u001b[39;00m\u001b[38;5;124m.2f\u001b[39m\u001b[38;5;132;01m}\u001b[39;00m\u001b[38;5;124m%\u001b[39m\u001b[38;5;124m\"\u001b[39m)\n",
            "\u001b[0;31mNameError\u001b[0m: name 'y_test' is not defined"
          ]
        }
      ],
      "outputs_reference": null,
      "execution_count": null,
      "block_group": "085cbcaa337648e6b317fdb45e0f96f5",
      "content_dependencies": null
    },
    {
      "cell_type": "markdown",
      "source": "<a style='text-decoration:none;line-height:16px;display:flex;color:#5B5B62;padding:10px;justify-content:end;' href='https://deepnote.com?utm_source=created-in-deepnote-cell&projectId=3da032f1-e5ab-4726-ac09-eb3d9c053730' target=\"_blank\">\n<img alt='Created in deepnote.com' style='display:inline;max-height:16px;margin:0px;margin-right:7.5px;' src='data:image/svg+xml;base64,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' > </img>\nCreated in <span style='font-weight:600;margin-left:4px;'>Deepnote</span></a>",
      "metadata": {
        "created_in_deepnote_cell": true,
        "deepnote_cell_type": "markdown"
      }
    }
  ],
  "nbformat": 4,
  "nbformat_minor": 0,
  "metadata": {
    "deepnote_notebook_id": "6e4894cb5316415c84dfcb94bca98624",
    "deepnote_execution_queue": []
  }
}